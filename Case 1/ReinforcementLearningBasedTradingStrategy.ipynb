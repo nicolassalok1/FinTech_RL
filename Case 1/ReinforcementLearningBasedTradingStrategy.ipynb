{
 "cells": [
  {
   "cell_type": "markdown",
   "metadata": {
    "_cell_guid": "83708667-4fdc-1563-7b3a-06b6575d2865"
   },
   "source": [
    "# Reinforcement Learning based Trading Strategy\n",
    "\n",
    "In this case study, we will create an end-to-end trading strategy based on Reinforcement Learning. \n"
   ]
  },
  {
   "cell_type": "markdown",
   "metadata": {},
   "source": [
    "## Content"
   ]
  },
  {
   "cell_type": "markdown",
   "metadata": {},
   "source": [
    "* [1. Problem Definition](#0)\n",
    "* [2. Getting Started - Load Libraries and Dataset](#1)\n",
    "    * [2.1. Load Libraries](#1.1)    \n",
    "    * [2.2. Load Dataset](#1.2)\n",
    "* [3. Exploratory Data Analysis](#2)\n",
    "    * [3.1 Descriptive Statistics](#2.1)    \n",
    "    * [3.2. Data Visualisation](#2.2)\n",
    "* [4. Data Preparation](#3)\n",
    "    * [4.1 Data Cleaning](#3.1) \n",
    "* [5.Evaluate Algorithms and Models](#5) \n",
    "    * [5.1. Train Test Split](#5.1)\n",
    "    * [5.2. Implementation steps and modules](#5.2)\n",
    "    * [5.3. Agent Script](#5.3)\n",
    "    * [5.4. Helper Function](#5.4)\n",
    "    * [5.5. Training Set](#5.5)       \n",
    "\n",
    "* [6.Test Set](#6)           "
   ]
  },
  {
   "cell_type": "markdown",
   "metadata": {},
   "source": [
    "<a id='0'></a>\n",
    "# 1. Problem Definition"
   ]
  },
  {
   "cell_type": "markdown",
   "metadata": {},
   "source": [
    "In this Reinforcement Learning framework for trading strategy, the algorithm takes an action (buy, sell or hold) depending upon the current state of the stock price. The algorithm is trained using Deep Q-Learning framework, to help us predict\n",
    "the best action, based on the current stock prices. \n",
    "\n",
    "The key components of the RL based framework are :\n",
    "* Agent: Trading agent.\n",
    "* Action: Buy, sell or hold.\n",
    "* Reward function: Realized profit and loss (PnL) is used as the reward function\n",
    "for this case study. The reward depends upon the action:\n",
    "    * Sell: Realized profit and loss (sell price - bought price)\n",
    "    * Buy: No reward\n",
    "    * Hold: No Reward \n",
    "\n",
    "* State: Differences of past stock prices for a given time window is used as the state.\n",
    "\n",
    "The data used for this case study will be the standard and poor's 500. The link to the data is : https://ca.finance.yahoo.com/quote/%255EGSPC/history?p=%255EGSPC)."
   ]
  },
  {
   "cell_type": "markdown",
   "metadata": {},
   "source": [
    "<a id='1'></a>\n",
    "# 2. Getting Started- Loading the data and python packages"
   ]
  },
  {
   "cell_type": "markdown",
   "metadata": {},
   "source": [
    "<a id='1.1'></a>\n",
    "## 2.1. Loading the python packages"
   ]
  },
  {
   "cell_type": "code",
   "metadata": {
    "_cell_guid": "5d8fee34-f454-2642-8b06-ed719f0317e1",
    "ExecuteTime": {
     "end_time": "2025-05-06T14:43:53.849379Z",
     "start_time": "2025-05-06T14:43:49.753452Z"
    }
   },
   "source": [
    "# Load libraries\n",
    "import numpy as np\n",
    "import pandas as pd\n",
    "import matplotlib.pyplot as plt\n",
    "from pandas import read_csv, set_option\n",
    "from pandas.plotting import scatter_matrix\n",
    "import seaborn as sns\n",
    "from sklearn.preprocessing import StandardScaler\n",
    "import datetime\n",
    "import math\n",
    "from numpy.random import choice\n",
    "import random\n",
    "\n",
    "import numpy as np\n",
    "import pandas as pd\n",
    "import matplotlib.pyplot as plt\n",
    "\n",
    "#Import Model Packages for reinforcement learning\n",
    "from keras import layers, models, optimizers\n",
    "from keras import backend as K\n",
    "from collections import namedtuple, deque"
   ],
   "outputs": [],
   "execution_count": 1
  },
  {
   "metadata": {
    "ExecuteTime": {
     "end_time": "2025-05-06T14:43:53.854940Z",
     "start_time": "2025-05-06T14:43:53.851250Z"
    }
   },
   "cell_type": "code",
   "source": "",
   "outputs": [],
   "execution_count": null
  },
  {
   "cell_type": "markdown",
   "metadata": {},
   "source": [
    "<a id='1.2'></a>\n",
    "## 2.2. Loading the Data"
   ]
  },
  {
   "cell_type": "code",
   "metadata": {
    "ExecuteTime": {
     "end_time": "2025-05-06T14:43:54.240812Z",
     "start_time": "2025-05-06T14:43:54.231806Z"
    }
   },
   "source": [
    "#The data already obtained from yahoo finance is imported.\n",
    "dataset = read_csv('D:\\PycharmProjects\\Books\\FinTech_Dir\\FinTech_RL\\Case 1\\data\\SP500.csv',index_col=0)"
   ],
   "outputs": [
    {
     "name": "stderr",
     "output_type": "stream",
     "text": [
      "<>:2: SyntaxWarning: invalid escape sequence '\\P'\n",
      "<>:2: SyntaxWarning: invalid escape sequence '\\P'\n",
      "C:\\Users\\nicol\\AppData\\Local\\Temp\\ipykernel_15136\\1183845814.py:2: SyntaxWarning: invalid escape sequence '\\P'\n",
      "  dataset = read_csv('D:\\PycharmProjects\\Books\\FinTech_Dir\\FinTech_RL\\Case 1\\data\\SP500.csv',index_col=0)\n"
     ]
    }
   ],
   "execution_count": 2
  },
  {
   "cell_type": "code",
   "metadata": {
    "ExecuteTime": {
     "end_time": "2025-05-06T14:43:54.266363Z",
     "start_time": "2025-05-06T14:43:54.259157Z"
    }
   },
   "source": [
    "#Diable the warnings\n",
    "import warnings\n",
    "warnings.filterwarnings('ignore')"
   ],
   "outputs": [],
   "execution_count": 3
  },
  {
   "cell_type": "code",
   "metadata": {
    "ExecuteTime": {
     "end_time": "2025-05-06T14:43:54.314721Z",
     "start_time": "2025-05-06T14:43:54.303990Z"
    }
   },
   "source": [
    "type(dataset)"
   ],
   "outputs": [
    {
     "data": {
      "text/plain": [
       "pandas.core.frame.DataFrame"
      ]
     },
     "execution_count": 4,
     "metadata": {},
     "output_type": "execute_result"
    }
   ],
   "execution_count": 4
  },
  {
   "cell_type": "markdown",
   "metadata": {
    "_cell_guid": "df6a4523-b385-69ee-c933-592826d81431"
   },
   "source": [
    "<a id='2'></a>\n",
    "# 3. Exploratory Data Analysis"
   ]
  },
  {
   "cell_type": "code",
   "metadata": {
    "_cell_guid": "52f85dc2-0f91-3c50-400e-ddc38bea966b",
    "ExecuteTime": {
     "end_time": "2025-05-06T14:43:54.350359Z",
     "start_time": "2025-05-06T14:43:54.339116Z"
    }
   },
   "source": [
    "# shape\n",
    "dataset.shape"
   ],
   "outputs": [
    {
     "data": {
      "text/plain": [
       "(2516, 6)"
      ]
     },
     "execution_count": 5,
     "metadata": {},
     "output_type": "execute_result"
    }
   ],
   "execution_count": 5
  },
  {
   "cell_type": "code",
   "metadata": {
    "ExecuteTime": {
     "end_time": "2025-05-06T14:43:54.372813Z",
     "start_time": "2025-05-06T14:43:54.359865Z"
    }
   },
   "source": [
    "# peek at data\n",
    "set_option('display.width', 100)\n",
    "dataset.head(5)"
   ],
   "outputs": [
    {
     "data": {
      "text/plain": [
       "                   Open         High          Low        Close    Adj Close      Volume\n",
       "Date                                                                                   \n",
       "2010-01-04  1116.560059  1133.869995  1116.560059  1132.989990  1132.989990  3991400000\n",
       "2010-01-05  1132.660034  1136.630005  1129.660034  1136.520020  1136.520020  2491020000\n",
       "2010-01-06  1135.709961  1139.189941  1133.949951  1137.140015  1137.140015  4972660000\n",
       "2010-01-07  1136.270020  1142.459961  1131.319946  1141.689941  1141.689941  5270680000\n",
       "2010-01-08  1140.520020  1145.390015  1136.219971  1144.979980  1144.979980  4389590000"
      ],
      "text/html": [
       "<div>\n",
       "<style scoped>\n",
       "    .dataframe tbody tr th:only-of-type {\n",
       "        vertical-align: middle;\n",
       "    }\n",
       "\n",
       "    .dataframe tbody tr th {\n",
       "        vertical-align: top;\n",
       "    }\n",
       "\n",
       "    .dataframe thead th {\n",
       "        text-align: right;\n",
       "    }\n",
       "</style>\n",
       "<table border=\"1\" class=\"dataframe\">\n",
       "  <thead>\n",
       "    <tr style=\"text-align: right;\">\n",
       "      <th></th>\n",
       "      <th>Open</th>\n",
       "      <th>High</th>\n",
       "      <th>Low</th>\n",
       "      <th>Close</th>\n",
       "      <th>Adj Close</th>\n",
       "      <th>Volume</th>\n",
       "    </tr>\n",
       "    <tr>\n",
       "      <th>Date</th>\n",
       "      <th></th>\n",
       "      <th></th>\n",
       "      <th></th>\n",
       "      <th></th>\n",
       "      <th></th>\n",
       "      <th></th>\n",
       "    </tr>\n",
       "  </thead>\n",
       "  <tbody>\n",
       "    <tr>\n",
       "      <th>2010-01-04</th>\n",
       "      <td>1116.560059</td>\n",
       "      <td>1133.869995</td>\n",
       "      <td>1116.560059</td>\n",
       "      <td>1132.989990</td>\n",
       "      <td>1132.989990</td>\n",
       "      <td>3991400000</td>\n",
       "    </tr>\n",
       "    <tr>\n",
       "      <th>2010-01-05</th>\n",
       "      <td>1132.660034</td>\n",
       "      <td>1136.630005</td>\n",
       "      <td>1129.660034</td>\n",
       "      <td>1136.520020</td>\n",
       "      <td>1136.520020</td>\n",
       "      <td>2491020000</td>\n",
       "    </tr>\n",
       "    <tr>\n",
       "      <th>2010-01-06</th>\n",
       "      <td>1135.709961</td>\n",
       "      <td>1139.189941</td>\n",
       "      <td>1133.949951</td>\n",
       "      <td>1137.140015</td>\n",
       "      <td>1137.140015</td>\n",
       "      <td>4972660000</td>\n",
       "    </tr>\n",
       "    <tr>\n",
       "      <th>2010-01-07</th>\n",
       "      <td>1136.270020</td>\n",
       "      <td>1142.459961</td>\n",
       "      <td>1131.319946</td>\n",
       "      <td>1141.689941</td>\n",
       "      <td>1141.689941</td>\n",
       "      <td>5270680000</td>\n",
       "    </tr>\n",
       "    <tr>\n",
       "      <th>2010-01-08</th>\n",
       "      <td>1140.520020</td>\n",
       "      <td>1145.390015</td>\n",
       "      <td>1136.219971</td>\n",
       "      <td>1144.979980</td>\n",
       "      <td>1144.979980</td>\n",
       "      <td>4389590000</td>\n",
       "    </tr>\n",
       "  </tbody>\n",
       "</table>\n",
       "</div>"
      ]
     },
     "execution_count": 6,
     "metadata": {},
     "output_type": "execute_result"
    }
   ],
   "execution_count": 6
  },
  {
   "cell_type": "markdown",
   "metadata": {},
   "source": [
    "The data has total 2515 rows and six columns which contain the open, high, low,\n",
    "close and adjusted close price along with the total volume. The adjusted close is the\n",
    "closing price adjusted for the split and dividends. For the purpose of this case study,\n",
    "we will be focusing on the closing price."
   ]
  },
  {
   "cell_type": "code",
   "metadata": {
    "_cell_guid": "7bffeec0-5bbc-fffb-18f2-3da56b862ca3",
    "ExecuteTime": {
     "end_time": "2025-05-06T14:43:54.450489Z",
     "start_time": "2025-05-06T14:43:54.439215Z"
    }
   },
   "source": [
    "# describe data\n",
    "pd.set_option('display.precision', 3)\n",
    "dataset.describe()\n"
   ],
   "outputs": [
    {
     "data": {
      "text/plain": [
       "           Open      High       Low     Close  Adj Close     Volume\n",
       "count  2516.000  2516.000  2516.000  2516.000   2516.000  2.516e+03\n",
       "mean   1962.148  1971.347  1952.200  1962.609   1962.609  3.715e+09\n",
       "std     589.031   590.191   587.624   588.910    588.910  8.134e+08\n",
       "min    1027.650  1032.950  1010.910  1022.580   1022.580  1.025e+09\n",
       "25%    1381.643  1390.700  1372.800  1384.405   1384.405  3.238e+09\n",
       "50%    1985.320  1993.085  1975.660  1986.480   1986.480  3.588e+09\n",
       "75%    2434.180  2441.523  2427.960  2433.968   2433.968  4.077e+09\n",
       "max    3247.230  3247.930  3234.370  3240.020   3240.020  1.062e+10"
      ],
      "text/html": [
       "<div>\n",
       "<style scoped>\n",
       "    .dataframe tbody tr th:only-of-type {\n",
       "        vertical-align: middle;\n",
       "    }\n",
       "\n",
       "    .dataframe tbody tr th {\n",
       "        vertical-align: top;\n",
       "    }\n",
       "\n",
       "    .dataframe thead th {\n",
       "        text-align: right;\n",
       "    }\n",
       "</style>\n",
       "<table border=\"1\" class=\"dataframe\">\n",
       "  <thead>\n",
       "    <tr style=\"text-align: right;\">\n",
       "      <th></th>\n",
       "      <th>Open</th>\n",
       "      <th>High</th>\n",
       "      <th>Low</th>\n",
       "      <th>Close</th>\n",
       "      <th>Adj Close</th>\n",
       "      <th>Volume</th>\n",
       "    </tr>\n",
       "  </thead>\n",
       "  <tbody>\n",
       "    <tr>\n",
       "      <th>count</th>\n",
       "      <td>2516.000</td>\n",
       "      <td>2516.000</td>\n",
       "      <td>2516.000</td>\n",
       "      <td>2516.000</td>\n",
       "      <td>2516.000</td>\n",
       "      <td>2.516e+03</td>\n",
       "    </tr>\n",
       "    <tr>\n",
       "      <th>mean</th>\n",
       "      <td>1962.148</td>\n",
       "      <td>1971.347</td>\n",
       "      <td>1952.200</td>\n",
       "      <td>1962.609</td>\n",
       "      <td>1962.609</td>\n",
       "      <td>3.715e+09</td>\n",
       "    </tr>\n",
       "    <tr>\n",
       "      <th>std</th>\n",
       "      <td>589.031</td>\n",
       "      <td>590.191</td>\n",
       "      <td>587.624</td>\n",
       "      <td>588.910</td>\n",
       "      <td>588.910</td>\n",
       "      <td>8.134e+08</td>\n",
       "    </tr>\n",
       "    <tr>\n",
       "      <th>min</th>\n",
       "      <td>1027.650</td>\n",
       "      <td>1032.950</td>\n",
       "      <td>1010.910</td>\n",
       "      <td>1022.580</td>\n",
       "      <td>1022.580</td>\n",
       "      <td>1.025e+09</td>\n",
       "    </tr>\n",
       "    <tr>\n",
       "      <th>25%</th>\n",
       "      <td>1381.643</td>\n",
       "      <td>1390.700</td>\n",
       "      <td>1372.800</td>\n",
       "      <td>1384.405</td>\n",
       "      <td>1384.405</td>\n",
       "      <td>3.238e+09</td>\n",
       "    </tr>\n",
       "    <tr>\n",
       "      <th>50%</th>\n",
       "      <td>1985.320</td>\n",
       "      <td>1993.085</td>\n",
       "      <td>1975.660</td>\n",
       "      <td>1986.480</td>\n",
       "      <td>1986.480</td>\n",
       "      <td>3.588e+09</td>\n",
       "    </tr>\n",
       "    <tr>\n",
       "      <th>75%</th>\n",
       "      <td>2434.180</td>\n",
       "      <td>2441.523</td>\n",
       "      <td>2427.960</td>\n",
       "      <td>2433.968</td>\n",
       "      <td>2433.968</td>\n",
       "      <td>4.077e+09</td>\n",
       "    </tr>\n",
       "    <tr>\n",
       "      <th>max</th>\n",
       "      <td>3247.230</td>\n",
       "      <td>3247.930</td>\n",
       "      <td>3234.370</td>\n",
       "      <td>3240.020</td>\n",
       "      <td>3240.020</td>\n",
       "      <td>1.062e+10</td>\n",
       "    </tr>\n",
       "  </tbody>\n",
       "</table>\n",
       "</div>"
      ]
     },
     "execution_count": 7,
     "metadata": {},
     "output_type": "execute_result"
    }
   ],
   "execution_count": 7
  },
  {
   "cell_type": "markdown",
   "metadata": {},
   "source": [
    "Let us look at the plot of the stock movement. "
   ]
  },
  {
   "cell_type": "code",
   "metadata": {
    "ExecuteTime": {
     "end_time": "2025-05-06T14:43:54.611648Z",
     "start_time": "2025-05-06T14:43:54.533302Z"
    }
   },
   "source": [
    "dataset['Close'].plot()"
   ],
   "outputs": [
    {
     "data": {
      "text/plain": [
       "<Axes: xlabel='Date'>"
      ]
     },
     "execution_count": 8,
     "metadata": {},
     "output_type": "execute_result"
    },
    {
     "data": {
      "text/plain": [
       "<Figure size 640x480 with 1 Axes>"
      ],
      "image/png": "[encoded data removed]"
     },
     "metadata": {},
     "output_type": "display_data"
    }
   ],
   "execution_count": 8
  },
  {
   "cell_type": "markdown",
   "metadata": {},
   "source": [
    "<a id='3'></a>\n",
    "## 4. Data Preparation"
   ]
  },
  {
   "cell_type": "markdown",
   "metadata": {},
   "source": [
    "<a id='3.1'></a>\n",
    "## 4.1. Data Cleaning\n",
    "Let us check for the NAs in the rows, either drop them or fill them with the mean of the column"
   ]
  },
  {
   "cell_type": "code",
   "metadata": {
    "ExecuteTime": {
     "end_time": "2025-05-06T14:43:54.649833Z",
     "start_time": "2025-05-06T14:43:54.646940Z"
    }
   },
   "source": [
    "#Checking for any null values and removing the null values'''\n",
    "print('Null Values =',dataset.isnull().values.any())"
   ],
   "outputs": [
    {
     "name": "stdout",
     "output_type": "stream",
     "text": [
      "Null Values = False\n"
     ]
    }
   ],
   "execution_count": 9
  },
  {
   "cell_type": "markdown",
   "metadata": {},
   "source": [
    "In case there are null values fill the missing values with the last value available in the dataset. "
   ]
  },
  {
   "cell_type": "code",
   "metadata": {
    "ExecuteTime": {
     "end_time": "2025-05-06T14:43:54.728639Z",
     "start_time": "2025-05-06T14:43:54.722560Z"
    }
   },
   "source": [
    "# Fill the missing values with the last value available in the dataset. \n",
    "dataset=dataset.fillna(method='ffill')\n",
    "dataset.head(2)"
   ],
   "outputs": [
    {
     "data": {
      "text/plain": [
       "               Open     High      Low    Close  Adj Close      Volume\n",
       "Date                                                                 \n",
       "2010-01-04  1116.56  1133.87  1116.56  1132.99    1132.99  3991400000\n",
       "2010-01-05  1132.66  1136.63  1129.66  1136.52    1136.52  2491020000"
      ],
      "text/html": [
       "<div>\n",
       "<style scoped>\n",
       "    .dataframe tbody tr th:only-of-type {\n",
       "        vertical-align: middle;\n",
       "    }\n",
       "\n",
       "    .dataframe tbody tr th {\n",
       "        vertical-align: top;\n",
       "    }\n",
       "\n",
       "    .dataframe thead th {\n",
       "        text-align: right;\n",
       "    }\n",
       "</style>\n",
       "<table border=\"1\" class=\"dataframe\">\n",
       "  <thead>\n",
       "    <tr style=\"text-align: right;\">\n",
       "      <th></th>\n",
       "      <th>Open</th>\n",
       "      <th>High</th>\n",
       "      <th>Low</th>\n",
       "      <th>Close</th>\n",
       "      <th>Adj Close</th>\n",
       "      <th>Volume</th>\n",
       "    </tr>\n",
       "    <tr>\n",
       "      <th>Date</th>\n",
       "      <th></th>\n",
       "      <th></th>\n",
       "      <th></th>\n",
       "      <th></th>\n",
       "      <th></th>\n",
       "      <th></th>\n",
       "    </tr>\n",
       "  </thead>\n",
       "  <tbody>\n",
       "    <tr>\n",
       "      <th>2010-01-04</th>\n",
       "      <td>1116.56</td>\n",
       "      <td>1133.87</td>\n",
       "      <td>1116.56</td>\n",
       "      <td>1132.99</td>\n",
       "      <td>1132.99</td>\n",
       "      <td>3991400000</td>\n",
       "    </tr>\n",
       "    <tr>\n",
       "      <th>2010-01-05</th>\n",
       "      <td>1132.66</td>\n",
       "      <td>1136.63</td>\n",
       "      <td>1129.66</td>\n",
       "      <td>1136.52</td>\n",
       "      <td>1136.52</td>\n",
       "      <td>2491020000</td>\n",
       "    </tr>\n",
       "  </tbody>\n",
       "</table>\n",
       "</div>"
      ]
     },
     "execution_count": 10,
     "metadata": {},
     "output_type": "execute_result"
    }
   ],
   "execution_count": 10
  },
  {
   "cell_type": "markdown",
   "metadata": {},
   "source": [
    "The parameters to clusters are the indices and the variables used in the clustering are the columns. Hence the data is in the right format to be fed to the clustering algorithms"
   ]
  },
  {
   "cell_type": "markdown",
   "metadata": {},
   "source": [
    "<a id='4'></a>\n",
    "# 5. Evaluate Algorithms and Models"
   ]
  },
  {
   "cell_type": "markdown",
   "metadata": {},
   "source": [
    "<a id='5.1'></a>\n",
    "## 5.1. Train Test Split"
   ]
  },
  {
   "cell_type": "markdown",
   "metadata": {},
   "source": [
    "We will use 80% of the dataset for modeling\n",
    "and use 20% for testing."
   ]
  },
  {
   "cell_type": "code",
   "metadata": {
    "ExecuteTime": {
     "end_time": "2025-05-06T14:43:54.810886Z",
     "start_time": "2025-05-06T14:43:54.807529Z"
    }
   },
   "source": [
    "X=list(dataset[\"Close\"])\n",
    "X=[float(x) for x in X]"
   ],
   "outputs": [],
   "execution_count": 11
  },
  {
   "cell_type": "code",
   "metadata": {
    "ExecuteTime": {
     "end_time": "2025-05-06T14:43:54.865309Z",
     "start_time": "2025-05-06T14:43:54.861437Z"
    }
   },
   "source": [
    "validation_size = 0.2\n",
    "#In case the data is not dependent on the time series, then train and test split should be done based on sequential sample\n",
    "#This can be done by selecting an arbitrary split point in the ordered list of observations and creating two new datasets.\n",
    "train_size = int(len(X) * (1-validation_size))\n",
    "X_train, X_test = X[0:train_size], X[train_size:len(X)]"
   ],
   "outputs": [],
   "execution_count": 12
  },
  {
   "cell_type": "markdown",
   "metadata": {},
   "source": [
    "<a id='5.2'></a>\n",
    "## 5.2. Implementation steps and modules"
   ]
  },
  {
   "cell_type": "markdown",
   "metadata": {},
   "source": [
    "The algorithm, in simple terms decides whether to buy, sell or hold, when provided\n",
    "with the current market price. The algorithm is based on “Q-learning based”\n",
    "approach and used Deep-Q-Network (DQN) to come up with a policy. As discussed\n",
    "before, the name “Q-learning” comes from the Q(s, a) function, that based on the\n",
    "state s and provided action a returns the expected reward.\n",
    "\n",
    "\n",
    "In order to implement this DQN algorithm several functions and modules are implemented that interact with each other during the model training. A summary of the\n",
    "modules and functions is described below.\n",
    "\n",
    "1. **Agent Class**: The agent is defined as “Agent” class, that holds the variables and\n",
    "member functions that perform the Q-Learning that we discussed before. An\n",
    "object of the “Agent” class is created using the training phase and is used for\n",
    "training the model.\n",
    "2. **Helper functions**: In this module, we create additional functions that are helpful\n",
    "for training. There are two helper functions that we have are as follows.\n",
    "3. **Training module**: In this step, we perform the training of the data using the vari‐\n",
    "ables and the functions agent and helper methods. This will provide us with one\n",
    "of three actions (i.e. buy, sell or hold) based on the states of the stock prices at the\n",
    "end of the day. During training, the prescribed action for each day is predicted,\n",
    "the rewards are computed and the deep-learning based Q-learning model\n",
    "weights are updated iteratively over a number of episodes. Additionally, the profit\n",
    "and loss of each action is summed up to see whether an overall profit has occur‐\n",
    "red. The aim is to maximize the total profit.\n",
    "We provide a deep dive into the interaction between different modules and functions\n",
    "in the “Training the model” section below.\n",
    "Let us look at the each of the modules in detail"
   ]
  },
  {
   "cell_type": "markdown",
   "metadata": {},
   "source": [
    "<a id='5.3'></a>\n",
    "## 5.3. Agent script"
   ]
  },
  {
   "cell_type": "markdown",
   "metadata": {},
   "source": [
    "The definition of the Agent script is the key step, as it consists of the In this section, we will train an agent that will perform reinforcement learning based on the Q-Learning. We will perform the following steps to achieve this:\n",
    "\n",
    "* Create an agent class whose initial function takes in the batch size, state size, and an evaluation Boolean function, to check whether the training is ongoing.\n",
    "* In the agent class, create the following methods:\n",
    "    * Constructor: The constructor inititalises all the parameters.\n",
    "    * Model : This f unction has a deep learning model to map the state to action.\n",
    "    * Act function :Returns an action, given a state, using the  output of the model function. The number of actions are defined as 3: sit, buy, sell\n",
    "    * expReplay : Create a Replay function that adds, samples, and evaluates a buffer. Add a new experience to the replay buffer memory. Randomly sample a batch of experienced tuples from the memory. In the following function, we randomly sample states from a memory buffer. Experience replay stores a history of state, action, reward, and next state transitions that are experienced by the agent. It randomly samples mini-batches from this experience to update the network weights at each time step before the agent selects an ε-greedy action.\n",
    "\n",
    "Experience replay increases sample efficiency, reduces the autocorrelation of samples that are collected during online learning, and limits the feedback due to the current weights producing training samples that can lead to local minima or divergence."
   ]
  },
  {
   "cell_type": "code",
   "metadata": {
    "ExecuteTime": {
     "end_time": "2025-05-06T14:43:54.902615Z",
     "start_time": "2025-05-06T14:43:54.899138Z"
    }
   },
   "source": "\n",
   "outputs": [],
   "execution_count": 12
  },
  {
   "cell_type": "markdown",
   "metadata": {},
   "source": [
    "<a id='5.4'></a>\n",
    "## 5.4. Helper Functions"
   ]
  },
  {
   "cell_type": "markdown",
   "metadata": {},
   "source": [
    "In this script, we will create functions that will be helpful for training. We create the following functions:\n",
    "\n",
    "1) formatPrice:format the price to two decimal places, to reduce the ambiguity of the data:\n",
    "\n",
    "2) getStockData: Return a vector of stock data from the CSV file. Convert the closing stock prices from the data to vectors, and return a vector of all stock prices.\n",
    "\n",
    "3) getState: Define a function to generate states from the input vector. Create the time series by generating the states from the vectors created in the previous step. The function for this takes three parameters: the data; a time, t (the day that you want to predict); and a window (how many days to go back in time). The rate of change between these vectors will then be measured and based on the sigmoid function."
   ]
  },
  {
   "cell_type": "code",
   "metadata": {
    "ExecuteTime": {
     "end_time": "2025-05-06T14:43:54.950078Z",
     "start_time": "2025-05-06T14:43:54.948078Z"
    }
   },
   "source": "",
   "outputs": [],
   "execution_count": null
  },
  {
   "cell_type": "markdown",
   "metadata": {},
   "source": [
    "<a id='5.5'></a>\n",
    "## 5.5. Training the data"
   ]
  },
  {
   "cell_type": "markdown",
   "metadata": {},
   "source": [
    "We will proceed to train the data, based on our agent and helper methods. This will provide us with one of three actions, based on the states of the stock prices at the end of the day. These states can be to buy, sell, or hold. During training, the prescribed action for each day is predicted, and the price (profit, loss, or unchanged) of the action is calculated. The cumulative sum will be calculated at the end of the training period, and we will see whether there has been a profit or a loss. The aim is to maximize the total profit.\n",
    "\n",
    "Steps: \n",
    "* Define the number of market days to consider as the window size and define the batch size with which the neural network will be trained.\n",
    "* Instantiate the stock agent with the window size and batch size.\n",
    "* Read the training data from the CSV file, using the helper function.\n",
    "* The episode count is defined. The agent will look at the data for so many numbers of times. An episode represents a complete pass over the data.\n",
    "* We can start to iterate through the episodes.\n",
    "* Each episode has to be started with a state based on the data and window size. The inventory of stocks is initialized before going through the data.\n",
    "* **Start to iterate over every day of the stock data. The action probability is predicted by the agent**. \n",
    "* Next, every day of trading is iterated, and the agent can act upon the data. Every day, the agent decides an action. Based on the action, the stock is held, sold, or bought.\n",
    "* If the action is 1, then agent buys the stock. \n",
    "* If the action is 2, the agent sells the stocks and removes it from the inventory. Based on the sale, the profit (or loss) is calculated.\n",
    "\n",
    "* If the action is 0, then there is no trade. The state can be called holding during that period.\n",
    "* The details of the state, next state, action etc is saved in the memory of the agent object, which is used further by the exeReply function.       \n"
   ]
  },
  {
   "cell_type": "code",
   "metadata": {
    "ExecuteTime": {
     "end_time": "2025-05-06T14:44:02.319468Z",
     "start_time": "2025-05-06T14:43:54.970655Z"
    }
   },
   "source": [
    "import sys\n",
    "from IPython.core.debugger import set_trace\n",
    "import numpy as np\n",
    "import math\n",
    "import tensorflow as tf\n",
    "import tensorflow as tf\n",
    "\n",
    "\n",
    "\n",
    "\n",
    "\n",
    "# prints formatted price\n",
    "def formatPrice(n):\n",
    "    return (\"-$\" if n < 0 else \"$\") + \"{0:.2f}\".format(abs(n))\n",
    "\n",
    "# returns the vector containing stock data from a fixed file\n",
    "def getStockData(key):\n",
    "    vec = []\n",
    "    lines = open(\"D:\\PycharmProjects\\Books\\FinTech_Dir\\FinTech_RL\\Case 1\\data\\/\" + key + \".csv\", \"r\").read().splitlines()\n",
    "\n",
    "    for line in lines[1:]:\n",
    "        vec.append(float(line.split(\",\")[4])) #Only Close column\n",
    "\n",
    "    return vec\n",
    "\n",
    "# returns the sigmoid\n",
    "def sigmoid(x):\n",
    "    return 1 / (1 + math.exp(-x))\n",
    "\n",
    "# returns an an n-day state representation ending at time t\n",
    "\n",
    "def getState(data, t, n):\n",
    "    d = t - n + 1\n",
    "    block = data[d:t + 1] if d >= 0 else -d * [data[0]] + data[0:t + 1] # pad with t0\n",
    "    #block is which is the for [1283.27002, 1283.27002]\n",
    "    res = []\n",
    "    for i in range(n - 1):\n",
    "        res.append(sigmoid(block[i + 1] - block[i]))\n",
    "    return np.array([res])\n",
    "\n",
    "# Plots the behavior of the output\n",
    "def plot_behavior(data_input, states_buy, states_sell, profit):\n",
    "    fig = plt.figure(figsize = (15,5))\n",
    "    plt.plot(data_input, color='r', lw=2.)\n",
    "    plt.plot(data_input, '^', markersize=10, color='m', label = 'Buying signal', markevery = states_buy)\n",
    "    plt.plot(data_input, 'v', markersize=10, color='k', label = 'Selling signal', markevery = states_sell)\n",
    "    plt.title('Total gains: %f'%(profit))\n",
    "    plt.legend()\n",
    "    #plt.savefig('output/'+name+'.png')\n",
    "    plt.show()\n",
    "\n",
    "\n",
    "import keras\n",
    "from keras.models import Sequential\n",
    "from keras.models import load_model\n",
    "from keras.layers import Dense\n",
    "from keras.optimizers import Adam\n",
    "from IPython.core.debugger import set_trace\n",
    "\n",
    "import numpy as np\n",
    "import random\n",
    "from collections import deque\n",
    "\n",
    "class Agent:\n",
    "    def __init__(self, state_size, is_eval=False, model_name=\"\"):\n",
    "        #State size depends and is equal to the the window size, n previous days\n",
    "        self.state_size = state_size # normalized previous days,\n",
    "        self.action_size = 3 # sit, buy, sell\n",
    "        self.memory = deque(maxlen=1000)\n",
    "        self.inventory = []\n",
    "        self.model_name = model_name\n",
    "        self.is_eval = is_eval\n",
    "\n",
    "        self.gamma = 0.95\n",
    "        self.epsilon = 1.0\n",
    "        self.epsilon_min = 0.01\n",
    "        self.epsilon_decay = 0.995\n",
    "        #self.epsilon_decay = 0.9\n",
    "\n",
    "        self.model = self._model()\n",
    "\n",
    "        #self.model = load_model(model_name) if is_eval else self._model()\n",
    "\n",
    "    #Deep Q Learning model- returns the q-value when given state as input\n",
    "    def _model(self):\n",
    "        model = Sequential()\n",
    "        #Input Layer\n",
    "        model.add(Dense(units=64, input_dim=self.state_size, activation=\"relu\"))\n",
    "        #Hidden Layers\n",
    "        model.add(Dense(units=32, activation=\"relu\"))\n",
    "        model.add(Dense(units=8, activation=\"relu\"))\n",
    "        #Output Layer\n",
    "        model.add(Dense(self.action_size, activation=\"linear\"))\n",
    "        model.compile(loss=\"mse\", optimizer=Adam(learning_rate=0.001))\n",
    "\n",
    "        return model\n",
    "\n",
    "    #Return the action on the value function\n",
    "    #With probability (1-$\\epsilon$) choose the action which has the highest Q-value.\n",
    "    #With probability ($\\epsilon$) choose any action at random.\n",
    "    #Intitially high epsilon-more random, later less\n",
    "    #The trained agents were evaluated by different initial random condition\n",
    "    #and an e-greedy policy with epsilon 0.05. This procedure is adopted to minimize the possibility of overfitting during evaluation.\n",
    "\n",
    "    def act(self, state):\n",
    "        #If it is test and self.epsilon is still very high, once the epsilon become low, there are no random\n",
    "        #actions suggested.\n",
    "        if not self.is_eval and random.random() <= self.epsilon:\n",
    "            test = random.randrange(self.action_size)\n",
    "            return random.randrange(self.action_size)\n",
    "        options = self.model.predict(state, verbose=0)\n",
    "        #set_trace()\n",
    "        #action is based on the action that has the highest value from the q-value function.\n",
    "        return np.argmax(options[0])\n",
    "\n",
    "    def expReplay(self, batch_size):\n",
    "        mini_batch = []\n",
    "        l = len(self.memory)\n",
    "        for i in range(l - batch_size + 1, l):\n",
    "            mini_batch.append(self.memory[i])\n",
    "\n",
    "        # the memory during the training phase.\n",
    "        for state, action, reward, next_state, done in mini_batch:\n",
    "            target = reward # reward or Q at time t\n",
    "            #update the Q table based on Q table equation\n",
    "            #set_trace()\n",
    "            if not done:\n",
    "                #set_trace()\n",
    "                #max of the array of the predicted.\n",
    "                target = reward + self.gamma * np.amax(self.model.predict(next_state, verbose=0)[0])\n",
    "\n",
    "            # Q-value of the state currently from the table\n",
    "            target_f = self.model.predict(state, verbose=0)\n",
    "            # Update the output Q table for the given action in the table\n",
    "            target_f[0][action] = target\n",
    "            #train and fit the model where state is X and target_f is Y, where the target is updated.\n",
    "            self.model.fit(state, target_f, epochs=1, verbose=0)\n",
    "\n",
    "        if self.epsilon > self.epsilon_min:\n",
    "            self.epsilon *= self.epsilon_decay\n",
    "\n",
    "\n",
    "def format_seconds(sec):\n",
    "    \"\"\"Convertit un nombre de secondes en H:MM:SS.\"\"\"\n",
    "    h = int(sec // 3600)\n",
    "    m = int((sec % 3600) // 60)\n",
    "    s = int(sec % 60)\n",
    "    return f\"{h:d}:{m:02d}:{s:02d}\"\n",
    "\n",
    "def progress_bar(current, total, start_time, bar_length=30):\n",
    "    \"\"\"\n",
    "    Affiche la barre avec pourcentage, elapsed et ETA.\n",
    "    - current : itération courante (1-based)\n",
    "    - total   : nombre total d'itérations\n",
    "    - start_time : timestamp (time.time()) du début\n",
    "    \"\"\"\n",
    "    elapsed = time.time() - start_time\n",
    "    fraction = current / total\n",
    "    # éviter division par zéro\n",
    "    remaining = elapsed * (1/fraction - 1) if fraction > 0 else 0\n",
    "    filled = int(bar_length * fraction)\n",
    "    bar = \"█\" * filled + \"-\" * (bar_length - filled)\n",
    "\n",
    "    sys.stdout.write(\n",
    "        f\"\\r|{bar}| {current}/{total} \"\n",
    "        f\"{fraction*100:6.2f}% \"\n",
    "        f\"Temps restant: {format_seconds(remaining)}\"\n",
    "    )\n",
    "    sys.stdout.flush()\n",
    "\n",
    "\n",
    "import time\n",
    "\n",
    "window_size = 1\n",
    "agent = Agent(window_size, is_eval=True)\n",
    "#In this step we feed the closing value of the stock price\n",
    "data = getStockData(\"SP500\") #X_train\n",
    "l = len(data) - 1\n",
    "#\n",
    "batch_size = 32\n",
    "#An episode represents a complete pass over the data.\n",
    "episode_count = 1\n",
    "\n",
    "for e in range(episode_count + 1):\n",
    "    print(\"\\n\" + \"Running episode \" + str(e + 1) + \"/\" + str(episode_count) + \"\\n\")\n",
    "    state = getState(data, 0, window_size + 1)\n",
    "    #set_trace()\n",
    "    total_profit = 0\n",
    "    agent.inventory = []\n",
    "    states_sell = []\n",
    "    states_buy = []\n",
    "\n",
    "\n",
    "    start = time.time()\n",
    "    for t in range(l):\n",
    "\n",
    "        #print(t)\n",
    "        action = agent.act(state)\n",
    "        # sit\n",
    "        next_state = getState(data, t + 1, window_size + 1)\n",
    "        reward = 0\n",
    "\n",
    "        if action == 1: # buy\n",
    "            agent.inventory.append(data[t])\n",
    "            states_buy.append(t)\n",
    "            #print(\"Buy: \" + formatPrice(data[t]))\n",
    "\n",
    "        elif action == 2 and len(agent.inventory) > 0: # sell\n",
    "            bought_price = agent.inventory.pop(0)\n",
    "            reward = max(data[t] - bought_price, 0)\n",
    "            total_profit += data[t] - bought_price\n",
    "            states_sell.append(t)\n",
    "            #print(\"Sell: \" + formatPrice(data[t]) + \" | Profit: \" + formatPrice(data[t] - bought_price))\n",
    "\n",
    "        done = True if t == l - 1 else False\n",
    "        #appends the details of the state action etc in the memory, which is used further by the exeReply function\n",
    "        agent.memory.append((state, action, reward, next_state, done))\n",
    "        state = next_state\n",
    "\n",
    "        if done:\n",
    "            print(\"--------------------------------\")\n",
    "            print(\"Total Profit: \" + formatPrice(total_profit))\n",
    "            print(\"--------------------------------\")\n",
    "            #set_trace()\n",
    "            #pd.DataFrame(np.array(agent.memory)).to_csv(\"Agent\"+str(e)+\".csv\")\n",
    "            #Chart to show how the model performs with the stock goin up and down for each \n",
    "            plot_behavior(data,states_buy, states_sell, total_profit)\n",
    "        if len(agent.memory) > batch_size:\n",
    "            agent.expReplay(batch_size)\n",
    "        time.sleep(0.1)\n",
    "        progress_bar(t, l, start)\n",
    "            \n",
    "    print()\n",
    "    if e % 2 == 0:\n",
    "        agent.model.save(\"model_ep\" + str(e))"
   ],
   "outputs": [
    {
     "name": "stdout",
     "output_type": "stream",
     "text": [
      "\n",
      "Running episode 1/1\n",
      "\n",
      "|------------------------------| 31/2515   1.23% Temps restant: 0:05:55"
     ]
    },
    {
     "name": "stderr",
     "output_type": "stream",
     "text": [
      "\n",
      "KeyboardInterrupt\n",
      "\n"
     ]
    }
   ],
   "execution_count": 13
  },
  {
   "cell_type": "code",
   "metadata": {
    "ExecuteTime": {
     "end_time": "2025-05-06T14:44:02.319468700Z",
     "start_time": "2025-05-02T01:44:38.515881Z"
    }
   },
   "source": [
    "#Deep Q-Learning Model\n",
    "print(agent.model.summary())"
   ],
   "outputs": [
    {
     "data": {
      "text/plain": [
       "\u001B[1mModel: \"sequential_3\"\u001B[0m\n"
      ],
      "text/html": [
       "<pre style=\"white-space:pre;overflow-x:auto;line-height:normal;font-family:Menlo,'DejaVu Sans Mono',consolas,'Courier New',monospace\"><span style=\"font-weight: bold\">Model: \"sequential_3\"</span>\n",
       "</pre>\n"
      ]
     },
     "metadata": {},
     "output_type": "display_data"
    },
    {
     "data": {
      "text/plain": [
       "┏━━━━━━━━━━━━━━━━━━━━━━━━━━━━━━━━━┳━━━━━━━━━━━━━━━━━━━━━━━━┳━━━━━━━━━━━━━━━┓\n",
       "┃\u001B[1m \u001B[0m\u001B[1mLayer (type)                   \u001B[0m\u001B[1m \u001B[0m┃\u001B[1m \u001B[0m\u001B[1mOutput Shape          \u001B[0m\u001B[1m \u001B[0m┃\u001B[1m \u001B[0m\u001B[1m      Param #\u001B[0m\u001B[1m \u001B[0m┃\n",
       "┡━━━━━━━━━━━━━━━━━━━━━━━━━━━━━━━━━╇━━━━━━━━━━━━━━━━━━━━━━━━╇━━━━━━━━━━━━━━━┩\n",
       "│ dense_12 (\u001B[38;5;33mDense\u001B[0m)                │ (\u001B[38;5;45mNone\u001B[0m, \u001B[38;5;34m64\u001B[0m)             │           \u001B[38;5;34m128\u001B[0m │\n",
       "├─────────────────────────────────┼────────────────────────┼───────────────┤\n",
       "│ dense_13 (\u001B[38;5;33mDense\u001B[0m)                │ (\u001B[38;5;45mNone\u001B[0m, \u001B[38;5;34m32\u001B[0m)             │         \u001B[38;5;34m2,080\u001B[0m │\n",
       "├─────────────────────────────────┼────────────────────────┼───────────────┤\n",
       "│ dense_14 (\u001B[38;5;33mDense\u001B[0m)                │ (\u001B[38;5;45mNone\u001B[0m, \u001B[38;5;34m8\u001B[0m)              │           \u001B[38;5;34m264\u001B[0m │\n",
       "├─────────────────────────────────┼────────────────────────┼───────────────┤\n",
       "│ dense_15 (\u001B[38;5;33mDense\u001B[0m)                │ (\u001B[38;5;45mNone\u001B[0m, \u001B[38;5;34m3\u001B[0m)              │            \u001B[38;5;34m27\u001B[0m │\n",
       "└─────────────────────────────────┴────────────────────────┴───────────────┘\n"
      ],
      "text/html": [
       "<pre style=\"white-space:pre;overflow-x:auto;line-height:normal;font-family:Menlo,'DejaVu Sans Mono',consolas,'Courier New',monospace\">┏━━━━━━━━━━━━━━━━━━━━━━━━━━━━━━━━━┳━━━━━━━━━━━━━━━━━━━━━━━━┳━━━━━━━━━━━━━━━┓\n",
       "┃<span style=\"font-weight: bold\"> Layer (type)                    </span>┃<span style=\"font-weight: bold\"> Output Shape           </span>┃<span style=\"font-weight: bold\">       Param # </span>┃\n",
       "┡━━━━━━━━━━━━━━━━━━━━━━━━━━━━━━━━━╇━━━━━━━━━━━━━━━━━━━━━━━━╇━━━━━━━━━━━━━━━┩\n",
       "│ dense_12 (<span style=\"color: #0087ff; text-decoration-color: #0087ff\">Dense</span>)                │ (<span style=\"color: #00d7ff; text-decoration-color: #00d7ff\">None</span>, <span style=\"color: #00af00; text-decoration-color: #00af00\">64</span>)             │           <span style=\"color: #00af00; text-decoration-color: #00af00\">128</span> │\n",
       "├─────────────────────────────────┼────────────────────────┼───────────────┤\n",
       "│ dense_13 (<span style=\"color: #0087ff; text-decoration-color: #0087ff\">Dense</span>)                │ (<span style=\"color: #00d7ff; text-decoration-color: #00d7ff\">None</span>, <span style=\"color: #00af00; text-decoration-color: #00af00\">32</span>)             │         <span style=\"color: #00af00; text-decoration-color: #00af00\">2,080</span> │\n",
       "├─────────────────────────────────┼────────────────────────┼───────────────┤\n",
       "│ dense_14 (<span style=\"color: #0087ff; text-decoration-color: #0087ff\">Dense</span>)                │ (<span style=\"color: #00d7ff; text-decoration-color: #00d7ff\">None</span>, <span style=\"color: #00af00; text-decoration-color: #00af00\">8</span>)              │           <span style=\"color: #00af00; text-decoration-color: #00af00\">264</span> │\n",
       "├─────────────────────────────────┼────────────────────────┼───────────────┤\n",
       "│ dense_15 (<span style=\"color: #0087ff; text-decoration-color: #0087ff\">Dense</span>)                │ (<span style=\"color: #00d7ff; text-decoration-color: #00d7ff\">None</span>, <span style=\"color: #00af00; text-decoration-color: #00af00\">3</span>)              │            <span style=\"color: #00af00; text-decoration-color: #00af00\">27</span> │\n",
       "└─────────────────────────────────┴────────────────────────┴───────────────┘\n",
       "</pre>\n"
      ]
     },
     "metadata": {},
     "output_type": "display_data"
    },
    {
     "data": {
      "text/plain": [
       "\u001B[1m Total params: \u001B[0m\u001B[38;5;34m7,499\u001B[0m (29.30 KB)\n"
      ],
      "text/html": [
       "<pre style=\"white-space:pre;overflow-x:auto;line-height:normal;font-family:Menlo,'DejaVu Sans Mono',consolas,'Courier New',monospace\"><span style=\"font-weight: bold\"> Total params: </span><span style=\"color: #00af00; text-decoration-color: #00af00\">7,499</span> (29.30 KB)\n",
       "</pre>\n"
      ]
     },
     "metadata": {},
     "output_type": "display_data"
    },
    {
     "data": {
      "text/plain": [
       "\u001B[1m Trainable params: \u001B[0m\u001B[38;5;34m2,499\u001B[0m (9.76 KB)\n"
      ],
      "text/html": [
       "<pre style=\"white-space:pre;overflow-x:auto;line-height:normal;font-family:Menlo,'DejaVu Sans Mono',consolas,'Courier New',monospace\"><span style=\"font-weight: bold\"> Trainable params: </span><span style=\"color: #00af00; text-decoration-color: #00af00\">2,499</span> (9.76 KB)\n",
       "</pre>\n"
      ]
     },
     "metadata": {},
     "output_type": "display_data"
    },
    {
     "data": {
      "text/plain": [
       "\u001B[1m Non-trainable params: \u001B[0m\u001B[38;5;34m0\u001B[0m (0.00 B)\n"
      ],
      "text/html": [
       "<pre style=\"white-space:pre;overflow-x:auto;line-height:normal;font-family:Menlo,'DejaVu Sans Mono',consolas,'Courier New',monospace\"><span style=\"font-weight: bold\"> Non-trainable params: </span><span style=\"color: #00af00; text-decoration-color: #00af00\">0</span> (0.00 B)\n",
       "</pre>\n"
      ]
     },
     "metadata": {},
     "output_type": "display_data"
    },
    {
     "data": {
      "text/plain": [
       "\u001B[1m Optimizer params: \u001B[0m\u001B[38;5;34m5,000\u001B[0m (19.54 KB)\n"
      ],
      "text/html": [
       "<pre style=\"white-space:pre;overflow-x:auto;line-height:normal;font-family:Menlo,'DejaVu Sans Mono',consolas,'Courier New',monospace\"><span style=\"font-weight: bold\"> Optimizer params: </span><span style=\"color: #00af00; text-decoration-color: #00af00\">5,000</span> (19.54 KB)\n",
       "</pre>\n"
      ]
     },
     "metadata": {},
     "output_type": "display_data"
    },
    {
     "name": "stdout",
     "output_type": "stream",
     "text": [
      "None\n"
     ]
    }
   ],
   "execution_count": 29
  },
  {
   "cell_type": "markdown",
   "metadata": {},
   "source": [
    "<a id='6'></a>\n",
    "# 6. Testing the Data "
   ]
  },
  {
   "cell_type": "markdown",
   "metadata": {},
   "source": [
    "After training the data, it is tested it against the test dataset. Our model resulted in a overall profit. The best thing about the model was that the profits kept improving over time, indicating that it was learning well and taking better actions."
   ]
  },
  {
   "cell_type": "code",
   "metadata": {
    "ExecuteTime": {
     "end_time": "2025-05-06T14:44:02.327060500Z",
     "start_time": "2025-05-02T01:44:38.567186Z"
    }
   },
   "source": [
    "#agent is already defined in the training set above.\n",
    "test_data = X_test\n",
    "l_test = len(test_data) - 1\n",
    "state = getState(test_data, 0, window_size + 1)\n",
    "total_profit = 0\n",
    "is_eval = True\n",
    "done = False\n",
    "states_sell_test = []\n",
    "states_buy_test = []\n",
    "#Get the trained model\n",
    "model_name = \"model_ep\"+str(episode_count)\n",
    "agent = Agent(window_size, is_eval, model_name)\n",
    "state = getState(data, 0, window_size + 1)\n",
    "total_profit = 0\n",
    "agent.inventory = []\n"
   ],
   "outputs": [],
   "execution_count": 30
  },
  {
   "cell_type": "code",
   "metadata": {
    "ExecuteTime": {
     "end_time": "2025-05-06T14:44:02.327060500Z",
     "start_time": "2025-05-02T01:44:38.626070Z"
    }
   },
   "source": [
    "for t in range(l_test):\n",
    "    action = agent.act(state)\n",
    "    #print(action)\n",
    "    #set_trace()\n",
    "    next_state = getState(test_data, t + 1, window_size + 1)\n",
    "    reward = 0\n",
    "\n",
    "    if action == 1:\n",
    "        agent.inventory.append(test_data[t])\n",
    "        states_buy_test.append(t)\n",
    "        print(\"Buy: \" + formatPrice(test_data[t]))\n",
    "\n",
    "    elif action == 2 and len(agent.inventory) > 0:\n",
    "        bought_price = agent.inventory.pop(0)\n",
    "        reward = max(test_data[t] - bought_price, 0)\n",
    "        #reward = test_data[t] - bought_price\n",
    "        total_profit += test_data[t] - bought_price\n",
    "        states_sell_test.append(t)\n",
    "        print(\"Sell: \" + formatPrice(test_data[t]) + \" | profit: \" + formatPrice(test_data[t] - bought_price))\n",
    "\n",
    "    if t == l_test - 1:\n",
    "        done = True\n",
    "    agent.memory.append((state, action, reward, next_state, done))\n",
    "    state = next_state\n",
    "\n",
    "    if done:\n",
    "        print(\"------------------------------------------\")\n",
    "        print(\"Total Profit: \" + formatPrice(total_profit))\n",
    "        print(\"------------------------------------------\")\n",
    "        \n",
    "plot_behavior(test_data,states_buy_test, states_sell_test, total_profit)"
   ],
   "outputs": [
    {
     "name": "stdout",
     "output_type": "stream",
     "text": [
      "Buy: $2673.61\n",
      "Buy: $2695.81\n",
      "Buy: $2713.06\n",
      "Buy: $2723.99\n",
      "Buy: $2743.15\n",
      "Buy: $2747.71\n",
      "Buy: $2751.29\n",
      "Buy: $2748.23\n",
      "Buy: $2767.56\n",
      "Buy: $2786.24\n",
      "Buy: $2776.42\n",
      "Buy: $2802.56\n",
      "Buy: $2798.03\n",
      "Buy: $2810.30\n",
      "Buy: $2832.97\n",
      "Buy: $2839.13\n",
      "Buy: $2837.54\n",
      "Buy: $2839.25\n",
      "Buy: $2872.87\n",
      "Buy: $2853.53\n",
      "Buy: $2822.43\n",
      "Buy: $2823.81\n",
      "Buy: $2821.98\n",
      "Buy: $2762.13\n",
      "Buy: $2695.14\n",
      "Buy: $2681.66\n",
      "Sell: $2581.00 | profit: -$92.61\n",
      "Buy: $2619.55\n",
      "Buy: $2656.00\n",
      "Buy: $2662.94\n",
      "Buy: $2698.63\n",
      "Buy: $2731.20\n",
      "Buy: $2732.22\n",
      "Buy: $2716.26\n",
      "Buy: $2701.33\n",
      "Buy: $2703.96\n",
      "Buy: $2747.30\n",
      "Buy: $2779.60\n",
      "Buy: $2744.28\n",
      "Buy: $2713.83\n",
      "Buy: $2677.67\n",
      "Buy: $2691.25\n",
      "Buy: $2720.94\n",
      "Buy: $2728.12\n",
      "Buy: $2726.80\n",
      "Buy: $2738.97\n",
      "Buy: $2786.57\n",
      "Buy: $2783.02\n",
      "Buy: $2765.31\n",
      "Buy: $2749.48\n",
      "Buy: $2747.33\n",
      "Buy: $2752.01\n",
      "Buy: $2712.92\n",
      "Buy: $2716.94\n",
      "Buy: $2711.93\n",
      "Buy: $2643.69\n",
      "Buy: $2588.26\n",
      "Buy: $2658.55\n",
      "Buy: $2612.62\n",
      "Buy: $2605.00\n",
      "Buy: $2640.87\n",
      "Buy: $2581.88\n",
      "Buy: $2614.45\n",
      "Buy: $2644.69\n",
      "Buy: $2662.84\n",
      "Buy: $2604.47\n",
      "Buy: $2613.16\n",
      "Buy: $2656.87\n",
      "Buy: $2642.19\n",
      "Buy: $2663.99\n",
      "Buy: $2656.30\n",
      "Buy: $2677.84\n",
      "Buy: $2706.39\n",
      "Buy: $2708.64\n",
      "Buy: $2693.13\n",
      "Buy: $2670.14\n",
      "Buy: $2670.29\n",
      "Buy: $2634.56\n",
      "Buy: $2639.40\n",
      "Buy: $2666.94\n",
      "Buy: $2669.91\n",
      "Buy: $2648.05\n",
      "Buy: $2654.80\n",
      "Buy: $2635.67\n",
      "Buy: $2629.73\n",
      "Buy: $2663.42\n",
      "Buy: $2672.63\n",
      "Buy: $2671.92\n",
      "Buy: $2697.79\n",
      "Buy: $2723.07\n",
      "Buy: $2727.72\n",
      "Buy: $2730.13\n",
      "Buy: $2711.45\n",
      "Buy: $2722.46\n",
      "Buy: $2720.13\n",
      "Buy: $2712.97\n",
      "Buy: $2733.01\n",
      "Buy: $2724.44\n",
      "Buy: $2733.29\n",
      "Buy: $2727.76\n",
      "Buy: $2721.33\n",
      "Buy: $2689.86\n",
      "Buy: $2724.01\n",
      "Buy: $2705.27\n",
      "Buy: $2734.62\n",
      "Buy: $2746.87\n",
      "Buy: $2748.80\n",
      "Buy: $2772.35\n",
      "Buy: $2770.37\n",
      "Buy: $2779.03\n",
      "Buy: $2782.00\n",
      "Buy: $2786.85\n",
      "Buy: $2775.63\n",
      "Buy: $2782.49\n",
      "Buy: $2779.66\n",
      "Buy: $2773.75\n",
      "Buy: $2762.59\n",
      "Buy: $2767.32\n",
      "Buy: $2749.76\n",
      "Buy: $2754.88\n",
      "Buy: $2717.07\n",
      "Buy: $2723.06\n",
      "Buy: $2699.63\n",
      "Buy: $2716.31\n",
      "Buy: $2718.37\n",
      "Buy: $2726.71\n",
      "Buy: $2713.22\n",
      "Buy: $2736.61\n",
      "Buy: $2759.82\n",
      "Buy: $2784.17\n",
      "Buy: $2793.84\n",
      "Buy: $2774.02\n",
      "Buy: $2798.29\n",
      "Buy: $2801.31\n",
      "Buy: $2798.43\n",
      "Buy: $2809.55\n",
      "Buy: $2815.62\n",
      "Buy: $2804.49\n",
      "Buy: $2801.83\n",
      "Buy: $2806.98\n",
      "Buy: $2820.40\n",
      "Buy: $2846.07\n",
      "Buy: $2837.44\n",
      "Buy: $2818.82\n",
      "Buy: $2802.60\n",
      "Buy: $2816.29\n",
      "Buy: $2813.36\n",
      "Buy: $2827.22\n",
      "Buy: $2840.35\n",
      "Buy: $2850.40\n",
      "Buy: $2858.45\n",
      "Buy: $2857.70\n",
      "Buy: $2853.58\n",
      "Buy: $2833.28\n",
      "Buy: $2821.93\n",
      "Buy: $2839.96\n",
      "Buy: $2818.37\n",
      "Buy: $2840.69\n",
      "Buy: $2850.13\n",
      "Buy: $2857.05\n",
      "Buy: $2862.96\n",
      "Buy: $2861.82\n",
      "Buy: $2856.98\n",
      "Buy: $2874.69\n",
      "Buy: $2896.74\n",
      "Buy: $2897.52\n",
      "Buy: $2914.04\n",
      "Buy: $2901.13\n",
      "Buy: $2901.52\n",
      "Buy: $2896.72\n",
      "Buy: $2888.60\n",
      "Buy: $2878.05\n",
      "Buy: $2871.68\n",
      "Buy: $2877.13\n",
      "Buy: $2887.89\n",
      "Buy: $2888.92\n",
      "Buy: $2904.18\n",
      "Buy: $2904.98\n",
      "Buy: $2888.80\n",
      "Buy: $2904.31\n",
      "Buy: $2907.95\n",
      "Buy: $2930.75\n",
      "Buy: $2929.67\n",
      "Buy: $2919.37\n",
      "Buy: $2915.56\n",
      "Buy: $2905.97\n",
      "Buy: $2914.00\n",
      "Buy: $2913.98\n",
      "Buy: $2924.59\n",
      "Buy: $2923.43\n",
      "Buy: $2925.51\n",
      "Buy: $2901.61\n",
      "Buy: $2885.57\n",
      "Buy: $2884.43\n",
      "Buy: $2880.34\n",
      "Buy: $2785.68\n",
      "Buy: $2728.37\n",
      "Buy: $2767.13\n",
      "Buy: $2750.79\n",
      "Buy: $2809.92\n",
      "Buy: $2809.21\n",
      "Buy: $2768.78\n",
      "Buy: $2767.78\n",
      "Buy: $2755.88\n",
      "Buy: $2740.69\n",
      "Buy: $2656.10\n",
      "Buy: $2705.57\n",
      "Buy: $2658.69\n",
      "Buy: $2641.25\n",
      "Buy: $2682.63\n",
      "Buy: $2711.74\n",
      "Buy: $2740.37\n",
      "Buy: $2723.06\n",
      "Buy: $2738.31\n",
      "Buy: $2755.45\n",
      "Buy: $2813.89\n",
      "Buy: $2806.83\n",
      "Buy: $2781.01\n",
      "Buy: $2726.22\n",
      "Buy: $2722.18\n",
      "Buy: $2701.58\n",
      "Buy: $2730.20\n",
      "Buy: $2736.27\n",
      "Buy: $2690.73\n",
      "Buy: $2641.89\n",
      "Buy: $2649.93\n",
      "Buy: $2632.56\n",
      "Buy: $2673.45\n",
      "Buy: $2682.17\n",
      "Buy: $2743.79\n",
      "Buy: $2737.80\n",
      "Buy: $2760.17\n",
      "Buy: $2790.37\n",
      "Buy: $2700.06\n",
      "Buy: $2695.95\n",
      "Buy: $2633.08\n",
      "Buy: $2637.72\n",
      "Buy: $2636.78\n",
      "Buy: $2651.07\n",
      "Buy: $2650.54\n",
      "Buy: $2599.95\n",
      "Buy: $2545.94\n",
      "Buy: $2546.16\n",
      "Buy: $2506.96\n",
      "Buy: $2467.42\n",
      "Buy: $2416.62\n",
      "Buy: $2351.10\n",
      "Buy: $2467.70\n",
      "Buy: $2488.83\n",
      "Buy: $2485.74\n",
      "Buy: $2506.85\n",
      "Buy: $2510.03\n",
      "Buy: $2447.89\n",
      "Buy: $2531.94\n",
      "Buy: $2549.69\n",
      "Buy: $2574.41\n",
      "Buy: $2584.96\n",
      "Buy: $2596.64\n",
      "Buy: $2596.26\n",
      "Buy: $2582.61\n",
      "Buy: $2610.30\n",
      "Buy: $2616.10\n",
      "Buy: $2635.96\n",
      "Buy: $2670.71\n",
      "Buy: $2632.90\n",
      "Buy: $2638.70\n",
      "Buy: $2642.33\n",
      "Buy: $2664.76\n",
      "Buy: $2643.85\n",
      "Buy: $2640.00\n",
      "Buy: $2681.05\n",
      "Buy: $2704.10\n",
      "Buy: $2706.53\n",
      "Buy: $2724.87\n",
      "Buy: $2737.70\n",
      "Buy: $2731.61\n",
      "Buy: $2706.05\n",
      "Buy: $2707.88\n",
      "Buy: $2709.80\n",
      "Buy: $2744.73\n",
      "Buy: $2753.03\n",
      "Buy: $2745.73\n",
      "Buy: $2775.60\n",
      "Buy: $2779.76\n",
      "Buy: $2784.70\n",
      "Buy: $2774.88\n",
      "Buy: $2792.67\n",
      "Buy: $2796.11\n",
      "Buy: $2793.90\n",
      "Buy: $2792.38\n",
      "Buy: $2784.49\n",
      "Buy: $2803.69\n",
      "Buy: $2792.81\n",
      "Buy: $2789.65\n",
      "Buy: $2771.45\n",
      "Buy: $2748.93\n",
      "Buy: $2743.07\n",
      "Buy: $2783.30\n",
      "Buy: $2791.52\n",
      "Buy: $2810.92\n",
      "Buy: $2808.48\n",
      "Buy: $2822.48\n",
      "Buy: $2832.94\n",
      "Buy: $2832.57\n",
      "Buy: $2824.23\n",
      "Buy: $2854.88\n",
      "Buy: $2800.71\n",
      "Buy: $2798.36\n",
      "Buy: $2818.46\n",
      "Buy: $2805.37\n",
      "Buy: $2815.44\n",
      "Buy: $2834.40\n",
      "Buy: $2867.19\n",
      "Buy: $2867.24\n",
      "Buy: $2873.40\n",
      "Buy: $2879.39\n",
      "Buy: $2892.74\n",
      "Buy: $2895.77\n",
      "Buy: $2878.20\n",
      "Buy: $2888.21\n",
      "Buy: $2888.32\n",
      "Buy: $2907.41\n",
      "Buy: $2905.58\n",
      "Buy: $2907.06\n",
      "Buy: $2900.45\n",
      "Buy: $2905.03\n",
      "Buy: $2907.97\n",
      "Buy: $2933.68\n",
      "Buy: $2927.25\n",
      "Buy: $2926.17\n",
      "Buy: $2939.88\n",
      "Buy: $2943.03\n",
      "Buy: $2945.83\n",
      "Buy: $2923.73\n",
      "Buy: $2917.52\n",
      "Buy: $2945.64\n",
      "Buy: $2932.47\n",
      "Buy: $2884.05\n",
      "Buy: $2879.42\n",
      "Buy: $2870.72\n",
      "Buy: $2881.40\n",
      "Buy: $2811.87\n",
      "Buy: $2834.41\n",
      "Buy: $2850.96\n",
      "Buy: $2876.32\n",
      "Buy: $2859.53\n",
      "Buy: $2840.23\n",
      "Buy: $2864.36\n",
      "Buy: $2856.27\n",
      "Buy: $2822.24\n",
      "Buy: $2826.06\n",
      "Buy: $2802.39\n",
      "Buy: $2783.02\n",
      "Buy: $2788.86\n",
      "Buy: $2752.06\n",
      "Buy: $2744.45\n",
      "Buy: $2803.27\n",
      "Buy: $2826.15\n",
      "Buy: $2843.49\n",
      "Buy: $2873.34\n",
      "Buy: $2886.73\n",
      "Buy: $2885.72\n",
      "Buy: $2879.84\n",
      "Buy: $2891.64\n",
      "Buy: $2886.98\n",
      "Buy: $2889.67\n",
      "Buy: $2917.75\n",
      "Buy: $2926.46\n",
      "Buy: $2954.18\n",
      "Buy: $2950.46\n",
      "Buy: $2945.35\n",
      "Buy: $2917.38\n",
      "Buy: $2913.78\n",
      "Buy: $2924.92\n",
      "Buy: $2941.76\n",
      "Buy: $2964.33\n",
      "Buy: $2973.01\n",
      "Buy: $2995.82\n",
      "Buy: $2990.41\n",
      "Buy: $2975.95\n",
      "Buy: $2979.63\n",
      "Buy: $2993.07\n",
      "Buy: $2999.91\n",
      "Buy: $3013.77\n",
      "Buy: $3014.30\n",
      "Buy: $3004.04\n",
      "Buy: $2984.42\n",
      "Buy: $2995.11\n",
      "Buy: $2976.61\n",
      "Buy: $2985.03\n",
      "Buy: $3005.47\n",
      "Buy: $3019.56\n",
      "Buy: $3003.67\n",
      "Buy: $3025.86\n",
      "Buy: $3020.97\n",
      "Buy: $3013.18\n",
      "Buy: $2980.38\n",
      "Buy: $2953.56\n",
      "Buy: $2932.05\n",
      "Buy: $2844.74\n",
      "Buy: $2881.77\n",
      "Buy: $2883.98\n",
      "Buy: $2938.09\n",
      "Buy: $2918.65\n",
      "Buy: $2882.70\n",
      "Buy: $2926.32\n",
      "Buy: $2840.60\n",
      "Buy: $2847.60\n",
      "Buy: $2888.68\n",
      "Buy: $2923.65\n",
      "Buy: $2900.51\n",
      "Buy: $2924.43\n",
      "Buy: $2922.95\n",
      "Buy: $2847.11\n",
      "Buy: $2878.38\n",
      "Buy: $2869.16\n",
      "Buy: $2887.94\n",
      "Buy: $2924.58\n",
      "Buy: $2926.46\n",
      "Buy: $2906.27\n",
      "Buy: $2937.78\n",
      "Buy: $2976.00\n",
      "Buy: $2978.71\n",
      "Buy: $2978.43\n",
      "Buy: $2979.39\n",
      "Buy: $3000.93\n",
      "Buy: $3009.57\n",
      "Buy: $3007.39\n",
      "Buy: $2997.96\n",
      "Buy: $3005.70\n",
      "Buy: $3006.73\n",
      "Buy: $3006.79\n",
      "Buy: $2992.07\n",
      "Buy: $2991.78\n",
      "Buy: $2966.60\n",
      "Buy: $2984.87\n",
      "Buy: $2977.62\n",
      "Buy: $2961.79\n",
      "Buy: $2976.74\n",
      "Buy: $2940.25\n",
      "Buy: $2887.61\n",
      "Buy: $2910.63\n",
      "Buy: $2952.01\n",
      "Buy: $2938.79\n",
      "Buy: $2893.06\n",
      "Buy: $2919.40\n",
      "Buy: $2938.13\n",
      "Buy: $2970.27\n",
      "Buy: $2966.15\n",
      "Buy: $2995.68\n",
      "Buy: $2989.69\n",
      "Buy: $2997.95\n",
      "Buy: $2986.20\n",
      "Buy: $3006.72\n",
      "Buy: $2995.99\n",
      "Buy: $3004.52\n",
      "Buy: $3010.29\n",
      "Buy: $3022.55\n",
      "Buy: $3039.42\n",
      "Buy: $3036.89\n",
      "Buy: $3046.77\n",
      "Buy: $3037.56\n",
      "Buy: $3066.91\n",
      "Buy: $3078.27\n",
      "Buy: $3074.62\n",
      "Buy: $3076.78\n",
      "Buy: $3085.18\n",
      "Buy: $3093.08\n",
      "Buy: $3087.01\n",
      "Buy: $3091.84\n",
      "Buy: $3094.04\n",
      "Buy: $3096.63\n",
      "Buy: $3120.46\n",
      "Buy: $3122.03\n",
      "Buy: $3120.18\n",
      "Buy: $3108.46\n",
      "Buy: $3103.54\n",
      "Buy: $3110.29\n",
      "Buy: $3133.64\n",
      "Buy: $3140.52\n",
      "Buy: $3153.63\n",
      "Buy: $3140.98\n",
      "Buy: $3113.87\n",
      "Buy: $3093.20\n",
      "Buy: $3112.76\n",
      "Buy: $3117.43\n",
      "Buy: $3145.91\n",
      "Buy: $3135.96\n",
      "Buy: $3132.52\n",
      "Buy: $3141.63\n",
      "Buy: $3168.57\n",
      "Buy: $3168.80\n",
      "Buy: $3191.45\n",
      "Buy: $3192.52\n",
      "Buy: $3191.14\n",
      "Buy: $3205.37\n",
      "Buy: $3221.22\n",
      "Buy: $3224.01\n",
      "Buy: $3223.38\n",
      "Buy: $3239.91\n",
      "Buy: $3240.02\n",
      "Buy: $3221.29\n",
      "------------------------------------------\n",
      "Total Profit: -$92.61\n",
      "------------------------------------------\n"
     ]
    },
    {
     "data": {
      "text/plain": [
       "<Figure size 1500x500 with 1 Axes>"
      ],
      "image/png": "[encoded data removed]"
     },
     "metadata": {},
     "output_type": "display_data"
    }
   ],
   "execution_count": 31
  },
  {
   "cell_type": "markdown",
   "metadata": {},
   "source": [
    "Looking at the results above, our model resulted in an overall profit of $1280, and we can say that our DQN agent performs quite well on the test set. However, the performance of the model can be further improved by optimizing the hyperparameters as discussed in the model tuning section before. Also, given high complexity and low interpretability of the model, ideally there should be more tests conducted on different time periods before deploying the model for live trading."
   ]
  },
  {
   "cell_type": "markdown",
   "metadata": {},
   "source": [
    "**Conclusion**\n",
    "\n",
    "We observed that we don’t have to decide the strategy or policy\n",
    "for trading. The algorithm decides the policy by itself, and the overall approach is\n",
    "much simpler and more principled than the supervised learning-based approach. \n",
    "\n",
    "The\n",
    "policy can be parameterized by a complex model, such as a deep neural network, and\n",
    "we can learn policies that are more complex and powerful than any rules a human\n",
    "trader.\n",
    "\n",
    "We used the testing set to evaluate the model and found an overall profit in the test set."
   ]
  }
 ],
 "metadata": {
  "_change_revision": 206,
  "_is_fork": false,
  "kernelspec": {
   "display_name": "Python 3",
   "language": "python",
   "name": "python3"
  },
  "language_info": {
   "codemirror_mode": {
    "name": "ipython",
    "version": 3
   },
   "file_extension": ".py",
   "mimetype": "text/x-python",
   "name": "python",
   "nbconvert_exporter": "python",
   "pygments_lexer": "ipython3",
   "version": "3.7.3"
  }
 },
 "nbformat": 4,
 "nbformat_minor": 1
}
