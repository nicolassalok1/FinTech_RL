{
 "cells": [
  {
   "cell_type": "markdown",
   "metadata": {
    "_cell_guid": "83708667-4fdc-1563-7b3a-06b6575d2865"
   },
   "source": [
    "# Reinforcement Learning for Portfolio Allocation\n",
    "\n",
    "In this case study, similar to Case Study 1 of this chapter, we will use the Reinforcement Learning models to come up with a policy for optimal portfolio allocation among a set of cryptocurrencies.\n"
   ]
  },
  {
   "cell_type": "markdown",
   "metadata": {},
   "source": [
    "## Content"
   ]
  },
  {
   "cell_type": "markdown",
   "metadata": {},
   "source": [
    "* [1. Problem Definition](#0)\n",
    "* [2. Getting Started - Load Libraries and Dataset](#1)\n",
    "    * [2.1. Load Libraries](#1.1)    \n",
    "    * [2.2. Load Dataset](#1.2)\n",
    "* [3. Exploratory Data Analysis](#2)\n",
    "    * [3.1 Descriptive Statistics](#2.1)    \n",
    "    * [3.2. Data Visualisation](#2.2)\n",
    "* [4.Evaluate Algorithms and Models](#4)        \n",
    "    * [4.1. Defining the Environment](#4.1)\n",
    "    * [4.2. Agent Script](#4.2)\n",
    "    * [4.3. Training the model](#4.3)       \n",
    "* [5.Testing the Model](#5)           "
   ]
  },
  {
   "cell_type": "markdown",
   "metadata": {},
   "source": [
    "<a id='0'></a>\n",
    "# 1. Problem Definition"
   ]
  },
  {
   "cell_type": "markdown",
   "metadata": {},
   "source": [
    "In the reinforcement learning based framework defined for this problem,  the algorithm determines the optimal portfolio allocation depending upon the current state of the portfolio of instruments. \n",
    "\n",
    "The algorithm is trained using Deep QLearning framework and the components of the reinforcement learning environment are:\n",
    "\n",
    "* Agent: Portfolio manager, robo advisor or an individual.\n",
    "* Action: Assignment and rebalancing the portfolio weights. The DQN model provides the Q-values which is further converted into portfolio weights.\n",
    "\n",
    "* Reward function: Sharpe ratio, which consists of the standard deviation as the risk assessment measure is used reward function. \n",
    "\n",
    "* State: The state is the correlation matrix of the instruments based on a specific time window. The correlation matrix is a suitable state variable for the portfolio allocation, as it contains the information about the relationships between different instruments and can be useful in performing portfolio allocation.\n",
    "\n",
    "* Environment: Cryptocurrency exchange.\n",
    "\n",
    "\n",
    "The data of cryptocurrencies that we will be using for this case study is obtained from\n",
    "the Kaggle platform and contains the daily prices of the cryptocurrencies during the\n",
    "period of 2018. The data contains some of the most liquid cryptocurrencies such as\n",
    "Bitcoin, Ethereum, Ripple, Litecoin and Dash."
   ]
  },
  {
   "cell_type": "markdown",
   "metadata": {},
   "source": [
    "<a id='1'></a>\n",
    "# 2. Getting Started- Loading the data and python packages"
   ]
  },
  {
   "cell_type": "markdown",
   "metadata": {},
   "source": [
    "<a id='1.1'></a>\n",
    "## 2.1. Loading the python packages"
   ]
  },
  {
   "cell_type": "code",
   "metadata": {
    "_cell_guid": "5d8fee34-f454-2642-8b06-ed719f0317e1",
    "ExecuteTime": {
     "end_time": "2025-05-06T14:43:53.851250Z",
     "start_time": "2025-05-06T14:43:50.963508Z"
    }
   },
   "source": [
    "# Load libraries\n",
    "import numpy as np\n",
    "import pandas as pd\n",
    "import matplotlib.pyplot as plt\n",
    "from pandas import read_csv, set_option\n",
    "from pandas.plotting import scatter_matrix\n",
    "import seaborn as sns\n",
    "from sklearn.preprocessing import StandardScaler\n",
    "import datetime\n",
    "import math\n",
    "from numpy.random import choice\n",
    "import random\n",
    "\n",
    "from keras.layers import Input, Dense, Flatten, Dropout\n",
    "from keras.models import Model\n",
    "from keras.regularizers import l2\n",
    "\n",
    "import numpy as np\n",
    "import pandas as pd\n",
    "\n",
    "import random\n",
    "from collections import deque\n",
    "import matplotlib.pylab as plt"
   ],
   "outputs": [],
   "execution_count": 1
  },
  {
   "cell_type": "code",
   "metadata": {
    "ExecuteTime": {
     "end_time": "2025-05-06T14:43:53.857298Z",
     "start_time": "2025-05-06T14:43:53.854437Z"
    }
   },
   "source": [
    "#Diable the warnings\n",
    "import warnings\n",
    "warnings.filterwarnings('ignore')"
   ],
   "outputs": [],
   "execution_count": 2
  },
  {
   "cell_type": "markdown",
   "metadata": {},
   "source": [
    "<a id='1.2'></a>\n",
    "## 2.2. Loading the Data"
   ]
  },
  {
   "cell_type": "code",
   "metadata": {
    "ExecuteTime": {
     "end_time": "2025-05-06T14:43:54.238499Z",
     "start_time": "2025-05-06T14:43:54.231806Z"
    }
   },
   "source": [
    "#The data already obtained from yahoo finance is imported.\n",
    "dataset = read_csv('D:\\PycharmProjects\\Books\\FinTech_Dir\\FinTech_RL\\Portfolio Allocation\\data\\crypto_portfolio.csv',index_col=0)"
   ],
   "outputs": [],
   "execution_count": 3
  },
  {
   "cell_type": "markdown",
   "metadata": {},
   "source": [
    "<a id='2'></a>\n",
    "# 3. Exploratory Data Analysis"
   ]
  },
  {
   "cell_type": "markdown",
   "metadata": {},
   "source": [
    "<a id='2.1'></a>\n",
    "## 3.1. Descriptive Statistics"
   ]
  },
  {
   "cell_type": "code",
   "metadata": {
    "ExecuteTime": {
     "end_time": "2025-05-06T14:43:54.253239Z",
     "start_time": "2025-05-06T14:43:54.247707Z"
    }
   },
   "source": [
    "# shape\n",
    "dataset.shape"
   ],
   "outputs": [
    {
     "data": {
      "text/plain": [
       "(375, 15)"
      ]
     },
     "execution_count": 4,
     "metadata": {},
     "output_type": "execute_result"
    }
   ],
   "execution_count": 4
  },
  {
   "cell_type": "code",
   "metadata": {
    "ExecuteTime": {
     "end_time": "2025-05-06T14:43:54.298324Z",
     "start_time": "2025-05-06T14:43:54.287467Z"
    }
   },
   "source": [
    "# peek at data\n",
    "set_option('display.width', 100)\n",
    "dataset.head(5)"
   ],
   "outputs": [
    {
     "data": {
      "text/plain": [
       "               ADA          BCH     BNB           BTC         DASH   EOS         ETH   IOT  \\\n",
       "Date                                                                                         \n",
       "2018-01-01  0.7022  2319.120117   8.480  13444.879883  1019.419983  7.64  756.200012  3.90   \n",
       "2018-01-02  0.7620  2555.489990   8.749  14754.129883  1162.469971  8.30  861.969971  3.98   \n",
       "2018-01-03  1.1000  2557.520020   9.488  15156.620117  1129.890015  9.43  941.099976  4.13   \n",
       "2018-01-04  1.1300  2355.780029   9.143  15180.080078  1120.119995  9.47  944.830017  4.10   \n",
       "2018-01-05  1.0100  2390.040039  14.850  16954.779297  1080.880005  9.29  967.130005  3.76   \n",
       "\n",
       "              LINK         LTC      TRX  USDT     XLM         XMR   XRP  \n",
       "Date                                                                     \n",
       "2018-01-01  0.7199  224.339996  0.05078  1.01  0.4840  338.170013  2.05  \n",
       "2018-01-02  0.6650  251.809998  0.07834  1.02  0.5560  364.440002  2.19  \n",
       "2018-01-03  0.6790  244.630005  0.09430  1.01  0.8848  385.820007  2.73  \n",
       "2018-01-04  0.9694  238.300003  0.21010  1.02  0.6950  372.230011  2.73  \n",
       "2018-01-05  0.9669  244.509995  0.22400  1.01  0.6400  357.299988  2.51  "
      ],
      "text/html": [
       "<div>\n",
       "<style scoped>\n",
       "    .dataframe tbody tr th:only-of-type {\n",
       "        vertical-align: middle;\n",
       "    }\n",
       "\n",
       "    .dataframe tbody tr th {\n",
       "        vertical-align: top;\n",
       "    }\n",
       "\n",
       "    .dataframe thead th {\n",
       "        text-align: right;\n",
       "    }\n",
       "</style>\n",
       "<table border=\"1\" class=\"dataframe\">\n",
       "  <thead>\n",
       "    <tr style=\"text-align: right;\">\n",
       "      <th></th>\n",
       "      <th>ADA</th>\n",
       "      <th>BCH</th>\n",
       "      <th>BNB</th>\n",
       "      <th>BTC</th>\n",
       "      <th>DASH</th>\n",
       "      <th>EOS</th>\n",
       "      <th>ETH</th>\n",
       "      <th>IOT</th>\n",
       "      <th>LINK</th>\n",
       "      <th>LTC</th>\n",
       "      <th>TRX</th>\n",
       "      <th>USDT</th>\n",
       "      <th>XLM</th>\n",
       "      <th>XMR</th>\n",
       "      <th>XRP</th>\n",
       "    </tr>\n",
       "    <tr>\n",
       "      <th>Date</th>\n",
       "      <th></th>\n",
       "      <th></th>\n",
       "      <th></th>\n",
       "      <th></th>\n",
       "      <th></th>\n",
       "      <th></th>\n",
       "      <th></th>\n",
       "      <th></th>\n",
       "      <th></th>\n",
       "      <th></th>\n",
       "      <th></th>\n",
       "      <th></th>\n",
       "      <th></th>\n",
       "      <th></th>\n",
       "      <th></th>\n",
       "    </tr>\n",
       "  </thead>\n",
       "  <tbody>\n",
       "    <tr>\n",
       "      <th>2018-01-01</th>\n",
       "      <td>0.7022</td>\n",
       "      <td>2319.120117</td>\n",
       "      <td>8.480</td>\n",
       "      <td>13444.879883</td>\n",
       "      <td>1019.419983</td>\n",
       "      <td>7.64</td>\n",
       "      <td>756.200012</td>\n",
       "      <td>3.90</td>\n",
       "      <td>0.7199</td>\n",
       "      <td>224.339996</td>\n",
       "      <td>0.05078</td>\n",
       "      <td>1.01</td>\n",
       "      <td>0.4840</td>\n",
       "      <td>338.170013</td>\n",
       "      <td>2.05</td>\n",
       "    </tr>\n",
       "    <tr>\n",
       "      <th>2018-01-02</th>\n",
       "      <td>0.7620</td>\n",
       "      <td>2555.489990</td>\n",
       "      <td>8.749</td>\n",
       "      <td>14754.129883</td>\n",
       "      <td>1162.469971</td>\n",
       "      <td>8.30</td>\n",
       "      <td>861.969971</td>\n",
       "      <td>3.98</td>\n",
       "      <td>0.6650</td>\n",
       "      <td>251.809998</td>\n",
       "      <td>0.07834</td>\n",
       "      <td>1.02</td>\n",
       "      <td>0.5560</td>\n",
       "      <td>364.440002</td>\n",
       "      <td>2.19</td>\n",
       "    </tr>\n",
       "    <tr>\n",
       "      <th>2018-01-03</th>\n",
       "      <td>1.1000</td>\n",
       "      <td>2557.520020</td>\n",
       "      <td>9.488</td>\n",
       "      <td>15156.620117</td>\n",
       "      <td>1129.890015</td>\n",
       "      <td>9.43</td>\n",
       "      <td>941.099976</td>\n",
       "      <td>4.13</td>\n",
       "      <td>0.6790</td>\n",
       "      <td>244.630005</td>\n",
       "      <td>0.09430</td>\n",
       "      <td>1.01</td>\n",
       "      <td>0.8848</td>\n",
       "      <td>385.820007</td>\n",
       "      <td>2.73</td>\n",
       "    </tr>\n",
       "    <tr>\n",
       "      <th>2018-01-04</th>\n",
       "      <td>1.1300</td>\n",
       "      <td>2355.780029</td>\n",
       "      <td>9.143</td>\n",
       "      <td>15180.080078</td>\n",
       "      <td>1120.119995</td>\n",
       "      <td>9.47</td>\n",
       "      <td>944.830017</td>\n",
       "      <td>4.10</td>\n",
       "      <td>0.9694</td>\n",
       "      <td>238.300003</td>\n",
       "      <td>0.21010</td>\n",
       "      <td>1.02</td>\n",
       "      <td>0.6950</td>\n",
       "      <td>372.230011</td>\n",
       "      <td>2.73</td>\n",
       "    </tr>\n",
       "    <tr>\n",
       "      <th>2018-01-05</th>\n",
       "      <td>1.0100</td>\n",
       "      <td>2390.040039</td>\n",
       "      <td>14.850</td>\n",
       "      <td>16954.779297</td>\n",
       "      <td>1080.880005</td>\n",
       "      <td>9.29</td>\n",
       "      <td>967.130005</td>\n",
       "      <td>3.76</td>\n",
       "      <td>0.9669</td>\n",
       "      <td>244.509995</td>\n",
       "      <td>0.22400</td>\n",
       "      <td>1.01</td>\n",
       "      <td>0.6400</td>\n",
       "      <td>357.299988</td>\n",
       "      <td>2.51</td>\n",
       "    </tr>\n",
       "  </tbody>\n",
       "</table>\n",
       "</div>"
      ]
     },
     "execution_count": 5,
     "metadata": {},
     "output_type": "execute_result"
    }
   ],
   "execution_count": 5
  },
  {
   "cell_type": "markdown",
   "metadata": {},
   "source": [
    "The data is the historical data of several Cryptocurrencies"
   ]
  },
  {
   "cell_type": "markdown",
   "metadata": {},
   "source": [
    "<a id='4'></a>\n",
    "# 4. Evaluate Algorithms and Models"
   ]
  },
  {
   "cell_type": "markdown",
   "metadata": {},
   "source": [
    "We will look at the following Scripts :\n",
    "\n",
    "1. Creating Environment \n",
    "2. Helper Functions\n",
    "3. Training Agents\n"
   ]
  },
  {
   "cell_type": "markdown",
   "metadata": {},
   "source": [
    "<a id='4.1'></a>\n",
    "## 4.1. Cryptocurrency environment\n",
    "\n",
    "We introduce a simulation environment class “CryptoEnvironment”, where\n",
    "we create a working environment for cryptocurrencies. This class has following key\n",
    "functions:\n",
    "\n",
    "* Function “getState: This function returns the state, which is the correlation matrix of\n",
    "the instruments based on a lookback period. The function also returns the historical\n",
    "return or raw historical data as the state depending on is_cov_matrix or\n",
    "is_raw_time_series flag.\n",
    "* Function “getReward: This function returns the reward, which is sharp ratio of the\n",
    "portfolio, given the portfolio weight and lookback period."
   ]
  },
  {
   "cell_type": "code",
   "metadata": {
    "ExecuteTime": {
     "end_time": "2025-05-06T14:43:54.359865Z",
     "start_time": "2025-05-06T14:43:54.353708Z"
    }
   },
   "source": [
    "import numpy as np\n",
    "import pandas as pd\n",
    "\n",
    "from IPython.core.debugger import set_trace\n",
    "\n",
    "#define a function portfolio\n",
    "def portfolio(returns, weights):\n",
    "    weights = np.array(weights)\n",
    "    rets = returns.mean() * 252\n",
    "    covs = returns.cov() * 252\n",
    "    P_ret = np.sum(rets * weights)\n",
    "    P_vol = np.sqrt(np.dot(weights.T, np.dot(covs, weights)))\n",
    "    P_sharpe = P_ret / P_vol\n",
    "    return np.array([P_ret, P_vol, P_sharpe])\n",
    "\n",
    "\n",
    "class CryptoEnvironment:\n",
    "    \n",
    "    def __init__(self, prices = 'D:\\PycharmProjects\\Books\\FinTech_Dir\\FinTech_RL\\Portfolio Allocation\\data\\crypto_portfolio.csv', capital = 1e6):\n",
    "        self.prices = prices  \n",
    "        self.capital = capital  \n",
    "        self.data = self.load_data()\n",
    "\n",
    "    def load_data(self):\n",
    "        data =  pd.read_csv(self.prices)\n",
    "        try:\n",
    "            data.index = data['Date']\n",
    "            data = data.drop(columns = ['Date'])\n",
    "        except:\n",
    "            data.index = data['date']\n",
    "            data = data.drop(columns = ['date'])            \n",
    "        return data\n",
    "\n",
    "    def preprocess_state(self, state):\n",
    "        return state\n",
    "\n",
    "    def get_state(self, t, lookback, is_cov_matrix = True, is_raw_time_series = False):\n",
    "\n",
    "        assert lookback <= t\n",
    "\n",
    "        decision_making_state = self.data.iloc[t-lookback:t]\n",
    "        decision_making_state = decision_making_state.pct_change().dropna()\n",
    "        #set_trace()\n",
    "        if is_cov_matrix:\n",
    "            x = decision_making_state.cov()\n",
    "            return x\n",
    "        else:\n",
    "            if is_raw_time_series:\n",
    "                decision_making_state = self.data.iloc[t-lookback:t]\n",
    "            return self.preprocess_state(decision_making_state)\n",
    "        \n",
    "    def get_reward(self, action, action_t, reward_t, alpha = 0.01):\n",
    "\n",
    "        def local_portfolio(returns, weights):\n",
    "            weights = np.array(weights)\n",
    "            rets = returns.mean() # * 252\n",
    "            covs = returns.cov() # * 252\n",
    "            P_ret = np.sum(rets * weights)\n",
    "            P_vol = np.sqrt(np.dot(weights.T, np.dot(covs, weights)))\n",
    "            P_sharpe = P_ret / P_vol\n",
    "            return np.array([P_ret, P_vol, P_sharpe])\n",
    "\n",
    "        data_period = self.data[action_t:reward_t]\n",
    "        weights = action\n",
    "        returns = data_period.pct_change().dropna()\n",
    "\n",
    "        sharpe = local_portfolio(returns, weights)[-1]\n",
    "        sharpe = np.array([sharpe] * len(self.data.columns))          \n",
    "        rew = (data_period.values[-1] - data_period.values[0]) / data_period.values[0]\n",
    "\n",
    "        return np.dot(returns, weights), sharpe\n",
    "        \n"
   ],
   "outputs": [],
   "execution_count": 6
  },
  {
   "cell_type": "markdown",
   "metadata": {},
   "source": [
    "<a id='4.2'></a>\n",
    "## 4.2. Agent Script"
   ]
  },
  {
   "cell_type": "markdown",
   "metadata": {},
   "source": [
    "In this section, we will train an agent that will perform reinforcement learning based on the actor and critic networks. We will perform the following steps to achieve this:\n",
    "* Create an agent class whose initial function takes in the batch size, state size, and an evaluation Boolean function, to check whether the training is ongoing.\n",
    "* In the agent class, create the following methods:\n",
    "* Create a Replay function that adds, samples, and evaluates a buffer.\n",
    "* Add a new experience to the replay buffer memory\n",
    "* Randomly sample a batch of experienced tuples from the memory. In the following function, we randomly sample states from a memory buffer. We do this so that the states that we feed to the model are not temporally correlated. This will reduce overfitting:\n",
    "* Return the current size of the buffer memory\n",
    "* The number of actions are defined as 3: sit, buy, sell\n",
    "* Define the replay memory size\n",
    "* Reward function is return \n"
   ]
  },
  {
   "cell_type": "code",
   "metadata": {
    "ExecuteTime": {
     "end_time": "2025-05-06T14:43:54.411777Z",
     "start_time": "2025-05-06T14:43:54.401592Z"
    }
   },
   "source": [
    "class Agent:\n",
    "    \n",
    "    def __init__(\n",
    "                     self, \n",
    "                     portfolio_size,\n",
    "                     is_eval = False, \n",
    "                     allow_short = True,\n",
    "                 ):\n",
    "        \n",
    "        self.portfolio_size = portfolio_size\n",
    "        self.allow_short = allow_short\n",
    "        self.input_shape = (portfolio_size, portfolio_size, )\n",
    "        self.action_size = 3 # sit, buy, sell\n",
    "        \n",
    "        self.memory4replay = []\n",
    "        self.is_eval = is_eval\n",
    "\n",
    "        self.alpha = 0.5\n",
    "        self.gamma = 0.95\n",
    "        self.epsilon = 1\n",
    "        self.epsilon_min = 0.01\n",
    "        self.epsilon_decay = 0.99\n",
    "        \n",
    "        self.model = self._model()\n",
    "\n",
    "    def _model(self):\n",
    "        \n",
    "        inputs = Input(shape=self.input_shape)        \n",
    "        x = Flatten()(inputs)\n",
    "        x = Dense(100, activation='elu')(x)\n",
    "        x = Dropout(0.5)(x)\n",
    "        x = Dense(50, activation='elu')(x)\n",
    "        x = Dropout(0.5)(x)\n",
    "        \n",
    "        predictions = []\n",
    "        for i in range(self.portfolio_size):\n",
    "            asset_dense = Dense(self.action_size, activation='linear')(x)   \n",
    "            predictions.append(asset_dense)\n",
    "        \n",
    "        model = Model(inputs=inputs, outputs=predictions)\n",
    "        model.compile(optimizer='adam', loss='mse')\n",
    "        return model\n",
    "\n",
    "    def nn_pred_to_weights(self, pred, allow_short = False):\n",
    "\n",
    "        weights = np.zeros(len(pred))\n",
    "        raw_weights = np.argmax(pred, axis=-1)\n",
    "\n",
    "        saved_min = None\n",
    "        \n",
    "        for e, r in enumerate(raw_weights):\n",
    "            if r == 0: # sit\n",
    "                weights[e] = 0\n",
    "            elif r == 1: # buy\n",
    "                weights[e] = np.abs(pred[e][0][r])\n",
    "            else:\n",
    "                weights[e] = -np.abs(pred[e][0][r])\n",
    "        #sum of absolute values in short is allowed\n",
    "        if not allow_short:\n",
    "            weights += np.abs(np.min(weights))\n",
    "            saved_min = np.abs(np.min(weights))\n",
    "            saved_sum = np.sum(weights)\n",
    "        else:\n",
    "            saved_sum = np.sum(np.abs(weights))\n",
    "            \n",
    "        weights /= saved_sum\n",
    "        return weights, saved_min, saved_sum\n",
    "    #return the action based on the state, uses the NN function \n",
    "    def act(self, state):\n",
    "        \n",
    "        if not self.is_eval and random.random() <= self.epsilon:\n",
    "            w = np.random.normal(0, 1, size = (self.portfolio_size, ))  \n",
    "              \n",
    "            saved_min = None\n",
    "            \n",
    "            if not self.allow_short:\n",
    "                w += np.abs(np.min(w))\n",
    "                saved_min = np.abs(np.min(w))\n",
    "                \n",
    "            saved_sum = np.sum(w)\n",
    "            w /= saved_sum\n",
    "            return w , saved_min, saved_sum\n",
    "\n",
    "        pred = self.model.predict(np.expand_dims(state.values, 0))\n",
    "        return self.nn_pred_to_weights(pred, self.allow_short)\n",
    "\n",
    "    def expReplay(self, batch_size):\n",
    "\n",
    "        def weights_to_nn_preds_with_reward(action_weights, \n",
    "                                            reward, \n",
    "                                            Q_star = np.zeros((self.portfolio_size, self.action_size))): \n",
    "            \n",
    "            Q = np.zeros((self.portfolio_size, self.action_size))           \n",
    "            for i in range(self.portfolio_size):\n",
    "                if action_weights[i] == 0:\n",
    "                    Q[i][0] = reward[i] + self.gamma * np.max(Q_star[i][0])\n",
    "                elif action_weights[i] > 0:\n",
    "                    Q[i][1] = reward[i] + self.gamma * np.max(Q_star[i][1])\n",
    "                else:\n",
    "                    Q[i][2] = reward[i] + self.gamma * np.max(Q_star[i][2])            \n",
    "            return Q  \n",
    "        \n",
    "        def restore_Q_from_weights_and_stats(action):            \n",
    "            action_weights, action_min, action_sum = action[0], action[1], action[2]\n",
    "            action_weights = action_weights * action_sum          \n",
    "            if action_min != None:\n",
    "                action_weights = action_weights - action_min   \n",
    "            return action_weights\n",
    "        \n",
    "        for (s, s_, action, reward, done) in self.memory4replay:\n",
    "            \n",
    "            action_weights = restore_Q_from_weights_and_stats(action) \n",
    "            #Reward =reward if not in the terminal state. \n",
    "            Q_learned_value = weights_to_nn_preds_with_reward(action_weights, reward)\n",
    "            s, s_ = s.values, s_.values    \n",
    "\n",
    "            if not done:\n",
    "                # reward + gamma * Q^*(s_, a_)\n",
    "                Q_star = self.model.predict(np.expand_dims(s_, 0))\n",
    "                Q_learned_value = weights_to_nn_preds_with_reward(action_weights, reward, np.squeeze(Q_star))  \n",
    "\n",
    "            Q_learned_value = [xi.reshape(1, -1) for xi in Q_learned_value]\n",
    "            Q_current_value = self.model.predict(np.expand_dims(s, 0))\n",
    "            Q = [np.add(a * (1-self.alpha), q * self.alpha) for a, q in zip(Q_current_value, Q_learned_value)]\n",
    "            \n",
    "            # update current Q function with new optimal value\n",
    "            self.model.fit(np.expand_dims(s, 0), Q, epochs=1, verbose=0)            \n",
    "        \n",
    "        if self.epsilon > self.epsilon_min:\n",
    "            self.epsilon *= self.epsilon_decay "
   ],
   "outputs": [],
   "execution_count": 7
  },
  {
   "cell_type": "markdown",
   "metadata": {},
   "source": [
    "<a id='4.3'></a>\n",
    "## 4.3. Training the data"
   ]
  },
  {
   "cell_type": "markdown",
   "metadata": {},
   "source": [
    "In this step we train the algorithm. In order to do that, we first initialize the “Agent” class and “CryptoEnvironment” class. "
   ]
  },
  {
   "cell_type": "code",
   "metadata": {
    "ExecuteTime": {
     "end_time": "2025-05-06T14:43:54.587580Z",
     "start_time": "2025-05-06T14:43:54.498468Z"
    }
   },
   "source": [
    "N_ASSETS = 15 #53\n",
    "agent = Agent(N_ASSETS)\n",
    "env = CryptoEnvironment()"
   ],
   "outputs": [],
   "execution_count": 8
  },
  {
   "cell_type": "code",
   "metadata": {
    "ExecuteTime": {
     "end_time": "2025-05-06T14:43:54.631070Z",
     "start_time": "2025-05-06T14:43:54.628057Z"
    }
   },
   "source": [
    "window_size = 180\n",
    "episode_count = 50\n",
    "batch_size = 32\n",
    "rebalance_period = 90 #every 90 days weight change"
   ],
   "outputs": [],
   "execution_count": 9
  },
  {
   "cell_type": "code",
   "metadata": {
    "ExecuteTime": {
     "end_time": "2025-05-06T14:43:54.700616Z",
     "start_time": "2025-05-06T14:43:54.695072Z"
    }
   },
   "source": [
    "data_length = len(env.data)\n",
    "data_length"
   ],
   "outputs": [
    {
     "data": {
      "text/plain": [
       "375"
      ]
     },
     "execution_count": 10,
     "metadata": {},
     "output_type": "execute_result"
    }
   ],
   "execution_count": 10
  },
  {
   "cell_type": "code",
   "metadata": {
    "ExecuteTime": {
     "end_time": "2025-05-06T14:43:54.738246Z",
     "start_time": "2025-05-06T14:43:54.733018Z"
    }
   },
   "source": [
    "np.random.randint(window_size+1, data_length-window_size-1)"
   ],
   "outputs": [
    {
     "data": {
      "text/plain": [
       "187"
      ]
     },
     "execution_count": 11,
     "metadata": {},
     "output_type": "execute_result"
    }
   ],
   "execution_count": 11
  },
  {
   "cell_type": "code",
   "metadata": {
    "jupyter": {
     "is_executing": true
    },
    "ExecuteTime": {
     "start_time": "2025-05-06T14:43:54.797524Z"
    }
   },
   "source": [
    "for e in range(episode_count):\n",
    "    \n",
    "    agent.is_eval = False\n",
    "    data_length = len(env.data)\n",
    "    \n",
    "    returns_history = []\n",
    "    returns_history_equal = []\n",
    "    \n",
    "    rewards_history = []\n",
    "    equal_rewards = []\n",
    "    \n",
    "    actions_to_show = []\n",
    "    \n",
    "    print(\"Episode \" + str(e) + \"/\" + str(episode_count), 'epsilon', agent.epsilon)\n",
    "\n",
    "    s = env.get_state(np.random.randint(window_size+1, data_length-window_size-1), window_size)\n",
    "    total_profit = 0 \n",
    "\n",
    "    for t in range(window_size, data_length, rebalance_period):\n",
    "        date1 = t-rebalance_period\n",
    "        #correlation from 90-180 days \n",
    "        s_ = env.get_state(t, window_size)\n",
    "        action = agent.act(s_)\n",
    "        \n",
    "        actions_to_show.append(action[0])\n",
    "        \n",
    "        weighted_returns, reward = env.get_reward(action[0], date1, t)\n",
    "        weighted_returns_equal, reward_equal = env.get_reward(\n",
    "            np.ones(agent.portfolio_size) / agent.portfolio_size, date1, t)\n",
    "\n",
    "        rewards_history.append(reward)\n",
    "        equal_rewards.append(reward_equal)\n",
    "        returns_history.extend(weighted_returns)\n",
    "        returns_history_equal.extend(weighted_returns_equal)\n",
    "\n",
    "        done = True if t == data_length else False\n",
    "        agent.memory4replay.append((s, s_, action, reward, done))\n",
    "        \n",
    "        if len(agent.memory4replay) >= batch_size:\n",
    "            agent.expReplay(batch_size)\n",
    "            agent.memory4replay = []\n",
    "            \n",
    "        s = s_\n",
    "\n",
    "    rl_result = np.array(returns_history).cumsum()\n",
    "    equal_result = np.array(returns_history_equal).cumsum()\n",
    "\n",
    "    plt.figure(figsize = (12, 2))\n",
    "    plt.plot(rl_result, color = 'black', ls = '-')\n",
    "    plt.plot(equal_result, color = 'grey', ls = '--')\n",
    "    plt.show()\n",
    "    \n",
    "    plt.figure(figsize = (12, 2))\n",
    "    for a in actions_to_show:    \n",
    "        plt.bar(np.arange(N_ASSETS), a, color = 'grey', alpha = 0.25)\n",
    "        plt.xticks(np.arange(N_ASSETS), env.data.columns, rotation='vertical')\n",
    "    plt.show()\n",
    "    "
   ],
   "outputs": [],
   "execution_count": null
  },
  {
   "cell_type": "markdown",
   "metadata": {},
   "source": [
    "The charts shown above show the details of the portfolio allocation of all the episodes."
   ]
  },
  {
   "cell_type": "markdown",
   "metadata": {},
   "source": [
    "<a id='5'></a>\n",
    "# 5. Testing the Data "
   ]
  },
  {
   "cell_type": "markdown",
   "metadata": {},
   "source": [
    "After training the data, it is tested it against the test dataset. "
   ]
  },
  {
   "cell_type": "code",
   "metadata": {
    "ExecuteTime": {
     "end_time": "2025-05-06T14:06:39.607825Z",
     "start_time": "2025-05-06T14:06:39.490624Z"
    }
   },
   "source": [
    "agent.is_eval = True\n",
    "\n",
    "actions_equal, actions_rl = [], []\n",
    "result_equal, result_rl = [], []\n",
    "\n",
    "for t in range(window_size, len(env.data), rebalance_period):\n",
    "\n",
    "    date1 = t-rebalance_period\n",
    "    s_ = env.get_state(t, window_size)\n",
    "    action = agent.act(s_)\n",
    "\n",
    "    weighted_returns, reward = env.get_reward(action[0], date1, t)\n",
    "    weighted_returns_equal, reward_equal = env.get_reward(\n",
    "        np.ones(agent.portfolio_size) / agent.portfolio_size, date1, t)\n",
    "\n",
    "    result_equal.append(weighted_returns_equal.tolist())\n",
    "    actions_equal.append(np.ones(agent.portfolio_size) / agent.portfolio_size)\n",
    "    \n",
    "    result_rl.append(weighted_returns.tolist())\n",
    "    actions_rl.append(action[0])"
   ],
   "outputs": [
    {
     "name": "stdout",
     "output_type": "stream",
     "text": [
      "\u001B[1m1/1\u001B[0m \u001B[32m━━━━━━━━━━━━━━━━━━━━\u001B[0m\u001B[37m\u001B[0m \u001B[1m0s\u001B[0m 6ms/step\n",
      "\u001B[1m1/1\u001B[0m \u001B[32m━━━━━━━━━━━━━━━━━━━━\u001B[0m\u001B[37m\u001B[0m \u001B[1m0s\u001B[0m 12ms/step\n",
      "\u001B[1m1/1\u001B[0m \u001B[32m━━━━━━━━━━━━━━━━━━━━\u001B[0m\u001B[37m\u001B[0m \u001B[1m0s\u001B[0m 8ms/step\n"
     ]
    }
   ],
   "execution_count": 50
  },
  {
   "cell_type": "code",
   "metadata": {
    "ExecuteTime": {
     "end_time": "2025-05-06T14:06:39.630415Z",
     "start_time": "2025-05-06T14:06:39.625923Z"
    }
   },
   "source": [
    "result_equal_vis = [item for sublist in result_equal for item in sublist]\n",
    "result_rl_vis = [item for sublist in result_rl for item in sublist]"
   ],
   "outputs": [],
   "execution_count": 51
  },
  {
   "cell_type": "code",
   "metadata": {
    "ExecuteTime": {
     "end_time": "2025-05-06T14:06:39.728595Z",
     "start_time": "2025-05-06T14:06:39.671472Z"
    }
   },
   "source": [
    "plt.figure()\n",
    "plt.plot(np.array(result_equal_vis).cumsum(), label = 'Benchmark', color = 'grey',ls = '--')\n",
    "plt.plot(np.array(result_rl_vis).cumsum(), label = 'Deep RL portfolio', color = 'black',ls = '-')\n",
    "plt.show()"
   ],
   "outputs": [
    {
     "data": {
      "text/plain": [
       "<Figure size 640x480 with 1 Axes>"
      ],
      "image/png": "[encoded data removed]"
     },
     "metadata": {},
     "output_type": "display_data"
    }
   ],
   "execution_count": 52
  },
  {
   "cell_type": "code",
   "metadata": {
    "ExecuteTime": {
     "end_time": "2025-05-06T14:06:40.175860Z",
     "start_time": "2025-05-06T14:06:39.754182Z"
    }
   },
   "source": [
    "#Plotting the data\n",
    "import matplotlib\n",
    "current_cmap = matplotlib.cm.get_cmap()\n",
    "current_cmap.set_bad(color='red')\n",
    "\n",
    "N = len(np.array([item for sublist in result_equal for item in sublist]).cumsum()) \n",
    "\n",
    "for i in range(0, len(actions_rl)):\n",
    "    current_range = np.arange(0, N)\n",
    "    current_ts = np.zeros(N)\n",
    "    current_ts2 = np.zeros(N)\n",
    "\n",
    "    ts_benchmark = np.array([item for sublist in result_equal[:i+1] for item in sublist]).cumsum()\n",
    "    ts_target = np.array([item for sublist in result_rl[:i+1] for item in sublist]).cumsum()\n",
    "\n",
    "    t = len(ts_benchmark)\n",
    "    current_ts[:t] = ts_benchmark\n",
    "    current_ts2[:t] = ts_target\n",
    "\n",
    "    current_ts[current_ts == 0] = ts_benchmark[-1]\n",
    "    current_ts2[current_ts2 == 0] = ts_target[-1]\n",
    "\n",
    "    plt.figure(figsize = (12, 10))\n",
    "\n",
    "    plt.subplot(2, 1, 1)\n",
    "    plt.bar(np.arange(N_ASSETS), actions_rl[i], color = 'grey')\n",
    "    plt.xticks(np.arange(N_ASSETS), env.data.columns, rotation='vertical')\n",
    "\n",
    "    plt.subplot(2, 1, 2)\n",
    "    plt.colormaps = current_cmap\n",
    "    plt.plot(current_range[:t], current_ts[:t], color = 'black', label = 'Benchmark')\n",
    "    plt.plot(current_range[:t], current_ts2[:t], color = 'red', label = 'Deep RL portfolio')\n",
    "    plt.plot(current_range[t:], current_ts[t:], ls = '--', lw = .1, color = 'black')\n",
    "    plt.autoscale(False)\n",
    "    plt.ylim([-1, 1])\n",
    "    plt.legend()"
   ],
   "outputs": [
    {
     "data": {
      "text/plain": [
       "<Figure size 1200x1000 with 2 Axes>"
      ],
      "image/png": "[encoded data removed]"
     },
     "metadata": {},
     "output_type": "display_data"
    },
    {
     "data": {
      "text/plain": [
       "<Figure size 1200x1000 with 2 Axes>"
      ],
      "image/png": "[encoded data removed]"
     },
     "metadata": {},
     "output_type": "display_data"
    },
    {
     "data": {
      "text/plain": [
       "<Figure size 1200x1000 with 2 Axes>"
      ],
      "image/png": "[encoded data removed]"
     },
     "metadata": {},
     "output_type": "display_data"
    }
   ],
   "execution_count": 53
  },
  {
   "cell_type": "code",
   "metadata": {
    "ExecuteTime": {
     "end_time": "2025-05-06T14:06:41.212448Z",
     "start_time": "2025-05-06T14:06:40.193726Z"
    }
   },
   "source": [
    "!pip install statsmodels\n",
    "\n",
    "\n",
    "import statsmodels.api as sm\n",
    "from statsmodels import regression\n",
    "\n",
    "def sharpe(R):\n",
    "    r = np.diff(R)\n",
    "    sr = r.mean()/r.std() * np.sqrt(252)\n",
    "    return sr\n",
    "\n",
    "def print_stats(result, benchmark):\n",
    "\n",
    "    sharpe_ratio = sharpe(np.array(result).cumsum())\n",
    "    returns = np.mean(np.array(result))\n",
    "    volatility = np.std(np.array(result))\n",
    "    \n",
    "    X = benchmark\n",
    "    y = result\n",
    "    x = sm.add_constant(X)\n",
    "    model = regression.linear_model.OLS(y, x).fit()\n",
    "    alpha = model.params[0]\n",
    "    beta = model.params[1]\n",
    "    \n",
    "    return np.round(np.array([returns, volatility, sharpe_ratio, alpha, beta]), 4).tolist()"
   ],
   "outputs": [
    {
     "name": "stdout",
     "output_type": "stream",
     "text": [
      "Requirement already satisfied: statsmodels in d:\\programmes\\anaconda\\envs\\fintech_rl\\lib\\site-packages (0.14.4)\n",
      "Requirement already satisfied: numpy<3,>=1.22.3 in d:\\programmes\\anaconda\\envs\\fintech_rl\\lib\\site-packages (from statsmodels) (2.1.3)\n",
      "Requirement already satisfied: scipy!=1.9.2,>=1.8 in d:\\programmes\\anaconda\\envs\\fintech_rl\\lib\\site-packages (from statsmodels) (1.15.2)\n",
      "Requirement already satisfied: pandas!=2.1.0,>=1.4 in d:\\programmes\\anaconda\\envs\\fintech_rl\\lib\\site-packages (from statsmodels) (2.2.3)\n",
      "Requirement already satisfied: patsy>=0.5.6 in d:\\programmes\\anaconda\\envs\\fintech_rl\\lib\\site-packages (from statsmodels) (1.0.1)\n",
      "Requirement already satisfied: packaging>=21.3 in c:\\users\\nicol\\appdata\\roaming\\python\\python312\\site-packages (from statsmodels) (24.2)\n",
      "Requirement already satisfied: python-dateutil>=2.8.2 in d:\\programmes\\anaconda\\envs\\fintech_rl\\lib\\site-packages (from pandas!=2.1.0,>=1.4->statsmodels) (2.9.0.post0)\n",
      "Requirement already satisfied: pytz>=2020.1 in d:\\programmes\\anaconda\\envs\\fintech_rl\\lib\\site-packages (from pandas!=2.1.0,>=1.4->statsmodels) (2024.1)\n",
      "Requirement already satisfied: tzdata>=2022.7 in d:\\programmes\\anaconda\\envs\\fintech_rl\\lib\\site-packages (from pandas!=2.1.0,>=1.4->statsmodels) (2025.2)\n",
      "Requirement already satisfied: six>=1.5 in d:\\programmes\\anaconda\\envs\\fintech_rl\\lib\\site-packages (from python-dateutil>=2.8.2->pandas!=2.1.0,>=1.4->statsmodels) (1.17.0)\n"
     ]
    }
   ],
   "execution_count": 54
  },
  {
   "cell_type": "code",
   "metadata": {
    "ExecuteTime": {
     "end_time": "2025-05-06T14:06:41.235652Z",
     "start_time": "2025-05-06T14:06:41.230935Z"
    }
   },
   "source": [
    "print('EQUAL', print_stats(result_equal_vis, result_equal_vis))\n",
    "print('RL AGENT', print_stats(result_rl_vis, result_equal_vis))"
   ],
   "outputs": [
    {
     "name": "stdout",
     "output_type": "stream",
     "text": [
      "EQUAL [-0.0013, 0.0468, -0.5016, -0.0, 1.0]\n",
      "RL AGENT [-0.0032, 0.0507, -1.0471, -0.0019, 1.0137]\n"
     ]
    }
   ],
   "execution_count": 55
  },
  {
   "cell_type": "markdown",
   "metadata": {},
   "source": [
    "RL portfolio has a higher return, higher sharp, lower volatility, higher alpha and negative correlation with the benchmark. "
   ]
  },
  {
   "cell_type": "markdown",
   "metadata": {},
   "source": [
    "**Conclusion**\n",
    "\n",
    "The idea in this case study was to go beyond classical Markowitz efficient frontier and directly learn the policy of changing the weights dynamically in the continuously\n",
    "changing market. \n",
    "\n",
    "We set up a standardized working environ‐\n",
    "ment(“gym”) for cryptocurrencies to facilitate the training. The model starts to learn over a period of time, discovers the strategy\n",
    "and starts to exploit it. we used the testing set to evaluate the model and found an\n",
    "overall profit in the test set.\n",
    "\n",
    "Overall, the framework provided in this case study can enable financial practitioners\n",
    "to perform portfolio allocation and rebalancing with a very flexible and automated\n",
    "approach and can prove to be immensely useful, specifically for robo-advisors\n"
   ]
  }
 ],
 "metadata": {
  "_change_revision": 206,
  "_is_fork": false,
  "kernelspec": {
   "display_name": "Python 3",
   "language": "python",
   "name": "python3"
  },
  "language_info": {
   "codemirror_mode": {
    "name": "ipython",
    "version": 3
   },
   "file_extension": ".py",
   "mimetype": "text/x-python",
   "name": "python",
   "nbconvert_exporter": "python",
   "pygments_lexer": "ipython3",
   "version": "3.7.3"
  }
 },
 "nbformat": 4,
 "nbformat_minor": 1
}
